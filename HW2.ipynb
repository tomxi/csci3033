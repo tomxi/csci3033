{
 "cells": [
  {
   "cell_type": "code",
   "execution_count": 1,
   "metadata": {
    "collapsed": false
   },
   "outputs": [],
   "source": [
    "import glob, os\n",
    "import numpy as np\n",
    "import pandas as pd\n",
    "import pickle\n",
    "\n",
    "import util\n",
    "\n",
    "%load_ext autoreload\n",
    "%autoreload 2"
   ]
  },
  {
   "cell_type": "code",
   "execution_count": 36,
   "metadata": {
    "collapsed": true
   },
   "outputs": [],
   "source": [
    "import matplotlib\n",
    "import matplotlib.pyplot as plt\n",
    "%matplotlib inline\n",
    "import imageio\n"
   ]
  },
  {
   "cell_type": "code",
   "execution_count": 2,
   "metadata": {
    "collapsed": true
   },
   "outputs": [],
   "source": [
    "skeletons_dir = \"./data_raw/\""
   ]
  },
  {
   "cell_type": "code",
   "execution_count": 3,
   "metadata": {
    "collapsed": true
   },
   "outputs": [],
   "source": [
    "skeleton_files = glob.glob(skeletons_dir+'*.skeleton')"
   ]
  },
  {
   "cell_type": "code",
   "execution_count": 4,
   "metadata": {
    "collapsed": false
   },
   "outputs": [
    {
     "data": {
      "text/plain": [
       "948"
      ]
     },
     "execution_count": 4,
     "metadata": {},
     "output_type": "execute_result"
    }
   ],
   "source": [
    "len(skeleton_files)"
   ]
  },
  {
   "cell_type": "code",
   "execution_count": 5,
   "metadata": {
    "collapsed": true
   },
   "outputs": [],
   "source": [
    "bodyinfo = util.read_skeleton_file(skeleton_files[0])"
   ]
  },
  {
   "cell_type": "code",
   "execution_count": 6,
   "metadata": {
    "collapsed": false
   },
   "outputs": [
    {
     "data": {
      "text/plain": [
       "{'colorX': 943.086,\n",
       " 'colorY': 448.7361,\n",
       " 'depthX': 244.5866,\n",
       " 'depthY': 167.4994,\n",
       " 'orientationW': 0.0,\n",
       " 'orientationX': 0.0,\n",
       " 'orientationY': 0.0,\n",
       " 'orientationZ': 0.0,\n",
       " 'trackingState': 2,\n",
       " 'x': -0.110189,\n",
       " 'y': 0.3840762,\n",
       " 'z': 3.428584}"
      ]
     },
     "execution_count": 6,
     "metadata": {},
     "output_type": "execute_result"
    }
   ],
   "source": [
    "bodyinfo[3][0]['joints'][24]"
   ]
  },
  {
   "cell_type": "code",
   "execution_count": 7,
   "metadata": {
    "collapsed": false
   },
   "outputs": [
    {
     "data": {
      "text/plain": [
       "[array([ 1.00822668, -0.12268341, -0.05895042]),\n",
       " array([ 0.50154701, -0.06661115, -0.04086145]),\n",
       " array([ 0.,  0.,  0.]),\n",
       " array([-0.26215165, -0.06558784,  0.01864999]),\n",
       " array([ 0.1871934 , -0.32368262, -0.03786402]),\n",
       " array([ 0.50603828, -0.13597163,  0.35695451]),\n",
       " array([ 0.17311784, -0.18295301,  0.19197855]),\n",
       " array([ 0.10901884, -0.16417754,  0.08177304]),\n",
       " array([ 0.22210351,  0.24148118,  0.04575928]),\n",
       " array([ 0.60334717,  0.39203051,  0.01434203]),\n",
       " array([ 0.59993434,  0.01496036,  0.33106   ]),\n",
       " array([ 0.55565651, -0.09849649,  0.39694532]),\n",
       " array([ 0.99268826, -0.18895597,  0.        ]),\n",
       " array([ 1.73714571, -0.20531212, -0.08254957]),\n",
       " array([ 2.42953671, -0.1875422 , -0.27160425]),\n",
       " array([ 2.55507929, -0.08148215, -0.19863017]),\n",
       " array([  1.00000000e+00,   1.46006197e-17,   2.92012394e-17]),\n",
       " array([ 1.74047861,  0.07299152, -0.04459515]),\n",
       " array([  2.48056133e+00,  -6.60286326e-04,  -2.19572354e-01]),\n",
       " array([ 2.54503533, -0.00499526,  0.01162587]),\n",
       " array([ 0.12500649, -0.01855267, -0.0142297 ]),\n",
       " array([-0.02855702, -0.15148685,  0.02996864]),\n",
       " array([ 0.16590017, -0.23947282,  0.08760412]),\n",
       " array([ 0.5512071 , -0.16924864,  0.48398253]),\n",
       " array([ 0.48739067, -0.07743056,  0.3846572 ])]"
      ]
     },
     "execution_count": 7,
     "metadata": {},
     "output_type": "execute_result"
    }
   ],
   "source": [
    "scaled_joints = util.normalize_joints(bodyinfo[3][0]['joints'])\n",
    "scaled_joints"
   ]
  },
  {
   "cell_type": "code",
   "execution_count": 11,
   "metadata": {
    "collapsed": false
   },
   "outputs": [],
   "source": [
    "for sfile in skeleton_files:\n",
    "    util.process_skeleton(sfile, skeletons_dir)"
   ]
  },
  {
   "cell_type": "raw",
   "metadata": {},
   "source": [
    "Pickle files format:\n",
    "\n",
    "the processed_bodyinfo is a numpy array that gets dumped into a pickle is in the following format:\n",
    "bodyinfo[f][b][j][u]\n",
    "Where: \n",
    "    f is the frame number             (depends on length of the video)\n",
    "    b is the body number              (there might not always be just 1 body/skeleton in a frame)\n",
    "    j is the joint number for a body  (25)\n",
    "    u is the basis number for a joint (3)"
   ]
  },
  {
   "cell_type": "code",
   "execution_count": 12,
   "metadata": {
    "collapsed": true
   },
   "outputs": [],
   "source": [
    "pickle_files = glob.glob(skeletons_dir+'*.pickle')"
   ]
  },
  {
   "cell_type": "code",
   "execution_count": 13,
   "metadata": {
    "collapsed": false
   },
   "outputs": [
    {
     "data": {
      "text/plain": [
       "(69, 1, 25, 3)"
      ]
     },
     "execution_count": 13,
     "metadata": {},
     "output_type": "execute_result"
    }
   ],
   "source": [
    "with open(pickle_files[0], 'rb') as fp:\n",
    "    bodyinfo = pickle.load(fp)\n",
    "\n",
    "bodyinfo.shape"
   ]
  },
  {
   "cell_type": "code",
   "execution_count": 24,
   "metadata": {
    "collapsed": false
   },
   "outputs": [],
   "source": [
    "# Vertices to keep:\n",
    "idxKeep = [3,4,5,6,7,8,9,10,11,21,22,23,24]"
   ]
  },
  {
   "cell_type": "code",
   "execution_count": 27,
   "metadata": {
    "collapsed": false
   },
   "outputs": [],
   "source": [
    "h1 = util.pickle_to_action_array(pickle_files[0], idxKeep)"
   ]
  },
  {
   "cell_type": "code",
   "execution_count": 31,
   "metadata": {
    "collapsed": false
   },
   "outputs": [
    {
     "data": {
      "text/plain": [
       "(68, 13, 3)"
      ]
     },
     "execution_count": 31,
     "metadata": {},
     "output_type": "execute_result"
    }
   ],
   "source": [
    "h1[0][1].shape"
   ]
  },
  {
   "cell_type": "code",
   "execution_count": 32,
   "metadata": {
    "collapsed": true
   },
   "outputs": [
    {
     "data": {
      "text/plain": [
       "array([[[  1.79362565e-04,   1.42531674e-04,  -2.44409773e-04],\n",
       "        [  6.80003501e-04,  -5.59703211e-05,  -3.21564083e-04],\n",
       "        [  3.98496407e-04,   2.38394482e-05,  -1.58906579e-04],\n",
       "        [  3.32137652e-04,  -1.10687330e-04,   1.80418644e-04],\n",
       "        [  5.13737112e-03,   7.05342212e-03,   1.64397937e-02],\n",
       "        [ -3.62614108e-04,  -3.14550446e-04,  -1.16938536e-03],\n",
       "        [ -4.50721851e-04,   3.61694980e-03,  -4.36616025e-03],\n",
       "        [ -1.01897469e-02,  -1.21912363e-02,   1.34440189e-02],\n",
       "        [ -5.94241305e-03,  -9.68823355e-04,   1.80370473e-02],\n",
       "        [ -6.59512042e-04,  -2.92318973e-02,  -3.00897395e-02],\n",
       "        [  4.22642448e-02,   6.26897716e-03,   2.11341161e-02],\n",
       "        [ -2.80216293e-02,  -1.40552139e-02,  -8.70406050e-03],\n",
       "        [ -2.01497227e-02,  -7.05386412e-03,  -1.72983852e-02]],\n",
       "\n",
       "       [[  5.18347596e-04,  -8.41190583e-04,  -5.10167490e-04],\n",
       "        [  2.78236406e-03,  -4.36794629e-03,  -1.45669328e-03],\n",
       "        [ -6.08875580e-02,   2.90397702e-02,   4.85149064e-02],\n",
       "        [ -4.67223564e-02,   9.25458023e-03,   2.66996940e-02],\n",
       "        [ -3.20212865e-02,  -2.64191724e-03,  -9.86948459e-03],\n",
       "        [  5.23321905e-04,   9.06701395e-04,  -4.85792891e-03],\n",
       "        [ -5.11292628e-04,  -1.65794923e-04,  -6.36623973e-04],\n",
       "        [  3.85992967e-03,   1.95815933e-02,  -1.43551333e-04],\n",
       "        [ -1.34506319e-02,   1.20793367e-02,   4.99051410e-03],\n",
       "        [ -4.56427364e-03,  -8.01005533e-03,   2.57869025e-02],\n",
       "        [ -3.18015874e-02,  -1.04326785e-02,  -2.11909782e-02],\n",
       "        [  3.29059492e-02,   8.93600760e-03,   1.06956931e-02],\n",
       "        [ -2.41829322e-02,  -1.52575949e-02,  -3.98028905e-02]],\n",
       "\n",
       "       [[  2.57983734e-03,   4.44035148e-04,   1.05533229e-03],\n",
       "        [  1.37407282e-03,  -1.11338923e-05,   9.52439412e-04],\n",
       "        [ -2.56810351e-05,   2.65717372e-03,  -4.91346953e-04],\n",
       "        [  4.29322487e-04,   2.72438601e-03,   1.81882717e-04],\n",
       "        [  1.24807176e-02,   4.96036990e-03,   4.61991289e-03],\n",
       "        [  2.06471023e-03,  -1.07569870e-03,  -6.20593668e-04],\n",
       "        [  9.21150935e-04,  -2.65035162e-03,   7.40205011e-04],\n",
       "        [  9.00287556e-03,   1.47327263e-02,  -3.66534839e-03],\n",
       "        [  6.29416145e-04,   1.52709218e-02,  -1.68809241e-03],\n",
       "        [ -2.09528266e-02,   4.73684523e-02,  -3.15548105e-02],\n",
       "        [  1.75964282e-02,   2.61864684e-02,   3.37294853e-02],\n",
       "        [ -2.37846290e-02,   1.93546452e-02,   3.32425402e-02],\n",
       "        [ -1.11244983e-03,   2.13836367e-02,   5.67221175e-03]],\n",
       "\n",
       "       [[  1.32936387e-04,  -4.02307325e-04,  -1.61917535e-03],\n",
       "        [ -6.73368939e-04,   7.72344539e-04,  -1.72874909e-03],\n",
       "        [  2.61074152e-02,  -9.02088648e-03,  -2.18820376e-02],\n",
       "        [  7.43653687e-03,   1.84426515e-02,   8.02341532e-03],\n",
       "        [ -1.96011580e-02,   2.34207432e-02,   6.85162876e-03],\n",
       "        [ -1.48490064e-03,  -1.72240023e-04,  -5.89325882e-04],\n",
       "        [ -3.47059211e-03,  -3.56240259e-03,   4.34230276e-03],\n",
       "        [ -5.09071522e-04,   1.02988868e-02,  -1.12635210e-02],\n",
       "        [ -5.80197220e-03,   4.66950069e-03,  -9.26850573e-03],\n",
       "        [ -1.09410628e-02,  -2.46817159e-03,   4.20035768e-02],\n",
       "        [ -9.99988413e-02,   6.57144785e-02,   4.18461036e-02],\n",
       "        [ -1.09684423e-02,  -1.38067445e-02,  -3.24698515e-02],\n",
       "        [ -9.04928790e-03,  -3.42958431e-02,   4.13659198e-02]],\n",
       "\n",
       "       [[ -6.94740629e-04,   1.32671720e-03,   2.89666624e-04],\n",
       "        [  5.52359192e-05,  -1.08549830e-03,   1.60066462e-03],\n",
       "        [  7.67950167e-04,   1.00412552e-03,   2.63450081e-04],\n",
       "        [ -5.16740468e-04,   1.70111511e-03,   2.68801160e-03],\n",
       "        [  1.95801654e-02,  -1.72175016e-03,  -1.49437882e-02],\n",
       "        [  3.90888423e-04,   3.96801434e-04,  -1.18364158e-03],\n",
       "        [  2.83714345e-03,  -1.61959720e-03,  -8.50214710e-04],\n",
       "        [ -7.41136171e-04,   6.49274982e-04,   3.22631440e-03],\n",
       "        [ -7.83470073e-03,   1.07145251e-02,   9.71089751e-03],\n",
       "        [ -5.89009717e-03,   4.68182788e-02,  -9.30588437e-03],\n",
       "        [  3.38738321e-02,   8.26901366e-03,  -4.58884769e-02],\n",
       "        [ -4.63823944e-03,   8.11684485e-03,   7.66329590e-03],\n",
       "        [ -1.16404400e-03,   5.06143155e-02,  -1.06766972e-01]],\n",
       "\n",
       "       [[ -2.20474476e-04,  -1.29421001e-03,   1.73797823e-03],\n",
       "        [  1.56098568e-04,  -1.00291611e-03,   8.06980700e-04],\n",
       "        [  1.51368946e-03,  -8.39327214e-04,  -5.85798847e-04],\n",
       "        [ -1.33372904e-02,   3.01308088e-02,   3.55952547e-02],\n",
       "        [ -1.64598822e-02,   1.84198193e-02,   1.62219423e-02],\n",
       "        [  2.24515763e-04,  -1.32164951e-03,  -3.00620253e-04],\n",
       "        [ -8.55702470e-04,  -5.01773349e-03,   4.11879357e-04],\n",
       "        [ -2.76013156e-03,  -2.25355056e-04,   2.33711401e-03],\n",
       "        [ -2.54983682e-03,   4.01523930e-03,   1.00337147e-03],\n",
       "        [ -3.51110007e-02,   5.78839365e-02,   9.73111780e-02],\n",
       "        [ -1.98224144e-02,  -8.35533860e-03,   2.64300520e-02],\n",
       "        [ -1.79626185e-03,   7.48993604e-03,   1.19949973e-02],\n",
       "        [ -2.16415073e-03,  -1.94220621e-03,   1.05907548e-02]],\n",
       "\n",
       "       [[  8.37742805e-05,  -2.73541527e-04,   4.91502226e-04],\n",
       "        [  1.13386497e-03,  -1.06031291e-03,   2.02389218e-03],\n",
       "        [  1.58576261e-03,   1.72676912e-03,   3.15493938e-04],\n",
       "        [ -3.49929574e-04,   1.04202852e-02,   6.81731465e-03],\n",
       "        [ -8.62317001e-03,   1.22867758e-02,   1.05454636e-02],\n",
       "        [ -5.62700452e-04,  -1.96200341e-04,  -1.48615861e-03],\n",
       "        [ -2.60004226e-03,  -2.97108546e-03,   6.34972698e-05],\n",
       "        [ -1.97749271e-03,   1.55966116e-03,   1.29686862e-03],\n",
       "        [  3.13955124e-03,  -3.66759373e-03,   3.65470520e-04],\n",
       "        [  3.70540997e-03,   9.71029610e-03,   2.57524045e-02],\n",
       "        [ -9.97606377e-03,   1.03298552e-01,  -1.49539383e-02],\n",
       "        [  5.69748934e-03,  -3.74654018e-03,   1.32387538e-02],\n",
       "        [ -1.45370565e-02,  -1.56546231e-02,   1.35190812e-01]],\n",
       "\n",
       "       [[ -2.29472649e-04,   5.66930651e-04,  -9.40092785e-04],\n",
       "        [  2.84400342e-04,   1.63819088e-04,  -1.83865185e-03],\n",
       "        [  3.15530204e-06,  -1.74361301e-03,  -5.87133342e-04],\n",
       "        [ -2.61988036e-03,   8.00051683e-03,   1.00161508e-02],\n",
       "        [  1.76370040e-02,   2.65585338e-02,  -7.37114567e-03],\n",
       "        [  9.90701931e-04,   5.51226411e-04,  -8.36627514e-04],\n",
       "        [ -5.63831367e-04,  -2.20152751e-04,   3.22743050e-03],\n",
       "        [ -6.66157714e-03,  -5.07252344e-03,   2.06002491e-03],\n",
       "        [ -7.47650495e-03,   2.12492736e-04,   1.32947746e-03],\n",
       "        [ -1.20838452e-02,   2.47254342e-03,   2.44474798e-03],\n",
       "        [  1.30241613e-02,  -4.11963437e-02,   3.13717598e-03],\n",
       "        [ -1.24903731e-02,  -2.25750186e-02,  -2.39646951e-02],\n",
       "        [  4.82743828e-02,   5.89277753e-02,   2.43077925e-03]],\n",
       "\n",
       "       [[  5.31642690e-04,   8.40763617e-04,  -2.27809595e-03],\n",
       "        [ -4.18507343e-04,  -6.43087423e-04,  -1.47289019e-03],\n",
       "        [ -6.71660748e-03,  -2.41266085e-03,   6.91286061e-03],\n",
       "        [ -1.17894102e-02,   1.14350213e-03,   2.62969932e-02],\n",
       "        [ -4.68508599e-02,  -2.40639793e-02,   3.26553187e-02],\n",
       "        [ -1.33193461e-03,  -1.44099194e-04,   2.01993476e-03],\n",
       "        [ -1.21023606e-03,  -3.00753106e-03,   1.84649840e-03],\n",
       "        [  1.24355527e-03,   2.40081233e-03,  -1.07832314e-03],\n",
       "        [ -8.36786341e-04,  -4.47284065e-03,  -1.00212933e-03],\n",
       "        [ -1.40606539e-02,   4.67683955e-03,   1.99324156e-02],\n",
       "        [ -4.66885274e-02,  -2.39112571e-02,   3.24070334e-02],\n",
       "        [ -5.82357068e-03,   2.93180998e-02,   3.73451734e-02],\n",
       "        [ -3.98820253e-02,  -4.45918504e-02,   7.05202261e-03]],\n",
       "\n",
       "       [[ -1.85200053e-03,   1.67104752e-03,  -8.82494341e-05],\n",
       "        [  3.79673497e-04,   1.64059721e-04,  -1.47995192e-03],\n",
       "        [ -5.23213758e-04,  -7.82830528e-04,  -2.49669206e-04],\n",
       "        [ -4.29320487e-04,   2.70157893e-03,   5.75075035e-04],\n",
       "        [ -1.37831193e-02,   1.53367510e-02,   1.37798080e-02],\n",
       "        [ -1.72862544e-03,  -1.51962027e-03,   1.40136267e-03],\n",
       "        [  2.50859038e-03,  -4.22497792e-03,   3.76453864e-03],\n",
       "        [ -7.21870670e-04,  -1.86667362e-03,   5.17015459e-04],\n",
       "        [  1.33053818e-03,  -1.97792369e-03,   4.63862856e-03],\n",
       "        [  3.22677670e-03,  -7.92595737e-03,   1.78670475e-03],\n",
       "        [ -9.31985532e-02,   4.92640000e-02,   7.04379179e-02],\n",
       "        [  1.40536081e-02,  -2.91877904e-02,  -3.72460322e-02],\n",
       "        [  1.18905718e-02,   8.30307343e-03,  -4.66335782e-03]],\n",
       "\n",
       "       [[ -2.23805463e-03,   7.08687398e-04,  -1.52558297e-04],\n",
       "        [ -2.76681720e-04,  -7.48846958e-04,  -5.40883455e-04],\n",
       "        [  8.28366615e-04,  -1.68872286e-03,  -6.26978873e-04],\n",
       "        [  1.81623018e-03,  -2.44496855e-03,  -6.57614438e-03],\n",
       "        [  1.76028653e-02,  -8.44580557e-03,  -1.64924628e-02],\n",
       "        [  6.21159843e-04,   1.09314251e-03,   1.26897050e-03],\n",
       "        [  3.93084032e-03,  -1.77085870e-03,   2.23962457e-03],\n",
       "        [ -8.37834294e-03,  -3.48996857e-03,   4.83757551e-03],\n",
       "        [ -4.62890104e-03,  -1.67200990e-03,  -6.41870799e-03],\n",
       "        [ -6.86439243e-03,   7.90894482e-03,   5.62732423e-03],\n",
       "        [  1.51294446e-01,  -4.07251501e-02,   5.96072703e-03],\n",
       "        [ -1.57951516e-02,   7.92771323e-03,  -1.71529126e-02],\n",
       "        [ -1.50293950e-02,  -1.55527272e-02,  -9.90976477e-02]],\n",
       "\n",
       "       [[ -4.93425314e-04,   3.02825372e-04,   1.34368427e-03],\n",
       "        [ -1.28690923e-03,   2.37682979e-04,   9.10133108e-04],\n",
       "        [  4.15341435e-04,  -1.19326542e-03,   2.94767160e-04],\n",
       "        [  4.61646390e-04,  -6.16709039e-04,  -7.56078946e-04],\n",
       "        [  4.05133848e-03,  -1.21357096e-02,   1.99380781e-03],\n",
       "        [ -3.52926745e-04,  -6.80067494e-04,   1.81546160e-04],\n",
       "        [ -1.10773052e-03,  -1.05275481e-03,   9.07177744e-04],\n",
       "        [ -2.40250544e-04,  -1.23666190e-03,  -1.12778624e-03],\n",
       "        [  2.77535418e-03,   2.57994555e-04,   1.12172769e-02],\n",
       "        [  4.39762885e-03,   5.24592738e-03,   8.46646689e-03],\n",
       "        [ -6.72067526e-02,  -1.52827251e-02,  -3.10503442e-02],\n",
       "        [  1.41454232e-02,   2.09902489e-02,   5.19967954e-02],\n",
       "        [  1.88287141e-02,   1.54117188e-02,   1.04530212e-01]],\n",
       "\n",
       "       [[ -3.00236107e-04,  -3.38199995e-04,   6.09772001e-04],\n",
       "        [ -4.77697317e-04,  -4.01875830e-05,   5.48283240e-04],\n",
       "        [  5.06851235e-03,  -3.32242282e-03,  -3.14691428e-03],\n",
       "        [  5.75090265e-03,  -3.37877191e-03,  -6.55152051e-03],\n",
       "        [  2.38671085e-02,  -7.41486522e-03,  -2.12718473e-02],\n",
       "        [ -1.82295021e-03,   5.65282795e-05,  -3.77001617e-05],\n",
       "        [ -2.12508409e-04,  -2.47005370e-04,   9.04369986e-05],\n",
       "        [ -1.92085678e-03,  -1.68532787e-03,  -3.66781667e-03],\n",
       "        [  2.53542890e-03,  -5.38021426e-03,  -1.79625721e-02],\n",
       "        [  9.12669362e-03,  -2.34357885e-02,  -2.86859177e-02],\n",
       "        [  3.89686024e-02,   2.11108630e-02,  -6.01901039e-02],\n",
       "        [ -1.38572095e-02,  -1.51771019e-02,  -2.75898963e-02],\n",
       "        [ -1.94529192e-02,  -2.35138785e-02,  -1.58572236e-01]],\n",
       "\n",
       "       [[  9.47755483e-04,   5.68827211e-04,   3.62904736e-04],\n",
       "        [  2.62478265e-04,  -1.24903474e-04,   1.35889363e-03],\n",
       "        [  2.69082137e-03,   6.95329659e-04,  -1.65997062e-03],\n",
       "        [  1.26179452e-03,   5.43573655e-03,   6.62268868e-03],\n",
       "        [ -6.53327850e-03,   1.51432023e-02,   4.18633890e-03],\n",
       "        [  3.95150142e-04,   1.27852003e-04,   5.88466399e-04],\n",
       "        [ -8.64319512e-04,   5.47596553e-04,  -1.33987638e-03],\n",
       "        [  3.67590581e-03,   4.65590570e-03,  -8.01801003e-03],\n",
       "        [  4.80553428e-03,   9.50712849e-03,  -1.36352261e-02],\n",
       "        [ -9.03328885e-04,  -3.14725119e-03,  -1.17201922e-02],\n",
       "        [ -6.12765004e-03,  -2.05510796e-02,   1.87044549e-02],\n",
       "        [ -7.50408596e-04,   1.09672869e-02,  -2.47259469e-02],\n",
       "        [  7.39341376e-03,   9.05096108e-03,  -1.40291428e-02]],\n",
       "\n",
       "       [[  4.80447904e-04,  -3.18638511e-04,  -9.85923392e-04],\n",
       "        [  7.34183741e-04,  -8.06480203e-04,   7.89359579e-04],\n",
       "        [  6.13760444e-04,   1.10823134e-03,  -5.93187106e-04],\n",
       "        [  1.17330520e-03,   7.91229166e-03,   1.04037443e-03],\n",
       "        [  1.56395967e-02,   8.62655432e-04,   4.89562974e-03],\n",
       "        [  3.35557548e-04,  -1.22341425e-03,  -1.06331488e-04],\n",
       "        [  1.97710144e-03,  -9.23490398e-04,   4.16016154e-04],\n",
       "        [  4.83276172e-04,   8.19180690e-04,  -6.48211725e-04],\n",
       "        [ -1.93387872e-03,  -1.31529853e-03,   1.57909147e-02],\n",
       "        [  2.07941550e-03,  -1.17104339e-03,  -1.11971476e-02],\n",
       "        [ -1.50199931e-01,   7.65380069e-02,   5.76691828e-02],\n",
       "        [  7.29039906e-05,  -1.26272035e-02,   1.79879057e-02],\n",
       "        [ -2.76269782e-03,  -1.12540206e-02,   6.26558401e-02]],\n",
       "\n",
       "       [[  3.18081215e-03,  -1.51903602e-03,   1.42331264e-03],\n",
       "        [  1.96159960e-03,  -2.51411023e-03,   1.16441864e-03],\n",
       "        [  5.36652316e-03,  -7.85587522e-03,  -5.12732737e-04],\n",
       "        [  3.61288120e-03,   6.43045856e-03,   2.03705074e-02],\n",
       "        [ -3.13342267e-02,   1.79272850e-02,   3.56792685e-02],\n",
       "        [  1.42185694e-03,  -1.06119275e-03,  -9.88459010e-04],\n",
       "        [  2.11621939e-04,  -1.57010810e-03,  -1.38764775e-04],\n",
       "        [ -1.65701116e-03,  -1.17965021e-03,   7.15282366e-03],\n",
       "        [ -1.21654595e-02,  -4.81589715e-04,   1.81393630e-02],\n",
       "        [  3.47546281e-03,  -2.92101704e-03,   1.19831194e-02],\n",
       "        [ -3.09477103e-02,   1.82177803e-02,   3.55906538e-02],\n",
       "        [ -2.12679174e-02,  -3.93203534e-02,  -1.31203721e-03],\n",
       "        [  8.05637905e-03,   2.40025553e-03,   1.22923141e-01]],\n",
       "\n",
       "       [[ -9.86487497e-04,   1.55663859e-03,  -1.14902885e-03],\n",
       "        [ -4.31889891e-04,  -8.25116325e-04,   2.67863870e-04],\n",
       "        [ -6.47555555e-04,   2.22980450e-04,   6.81856402e-04],\n",
       "        [  1.16106349e-01,  -2.96103223e-01,   2.04658947e-01],\n",
       "        [  3.61283721e-01,  -1.89930341e-01,   3.19692940e-01],\n",
       "        [ -5.49122245e-04,   1.49953667e-04,  -4.74279343e-05],\n",
       "        [  5.61356402e-03,   8.11100109e-04,   8.81642986e-03],\n",
       "        [ -3.89306590e-02,   1.96587874e-02,   7.18960637e-02],\n",
       "        [ -5.36420570e-02,   6.03147904e-02,   5.98361348e-02],\n",
       "        [  5.12737828e-01,  -2.29921308e-01,   3.50663056e-01],\n",
       "        [  6.04227170e-01,  -2.00164877e-01,   2.30254625e-01],\n",
       "        [ -6.93780926e-02,   1.46992007e-01,   4.37501346e-02],\n",
       "        [ -9.52125605e-03,   1.06867028e-01,   4.20732844e-02]],\n",
       "\n",
       "       [[ -1.55045588e-03,  -6.42232890e-04,   1.37762475e-03],\n",
       "        [ -2.90019036e-03,   4.79101177e-03,   7.05999240e-03],\n",
       "        [  9.92753348e-03,  -2.25195429e-01,  -2.61231779e-01],\n",
       "        [  1.34444277e-01,   1.15601576e-01,  -6.38758222e-02],\n",
       "        [ -3.11293362e-02,  -4.09759173e-02,  -4.72537052e-02],\n",
       "        [  2.14186671e-03,   1.67146469e-03,   8.12814138e-05],\n",
       "        [  2.83286607e-02,  -3.02881315e-03,   5.10892135e-02],\n",
       "        [ -1.22537626e-01,   1.65207739e-02,   5.97540520e-02],\n",
       "        [ -7.34058097e-02,   7.70460505e-02,   6.92651653e-02],\n",
       "        [ -9.62613943e-02,  -7.24630632e-02,   1.78025094e-02],\n",
       "        [ -4.92364846e-02,  -8.26809304e-02,   2.53095302e-02],\n",
       "        [ -7.05416619e-02,   1.29611126e-01,   9.15640100e-02],\n",
       "        [ -1.01317311e-01,   5.72679468e-02,   5.90809070e-02]],\n",
       "\n",
       "       [[ -5.41587222e-04,   2.89225569e-03,  -4.07273801e-04],\n",
       "        [  8.01798024e-03,  -1.02100029e-02,   6.49575087e-03],\n",
       "        [  1.10500570e-02,  -3.58503413e-02,  -1.29462251e-01],\n",
       "        [ -6.74027685e-02,  -6.45027209e-02,  -7.24311021e-03],\n",
       "        [ -7.31137335e-02,  -4.54701355e-02,   4.27580771e-02],\n",
       "        [  5.51477073e-03,   4.64361456e-03,  -5.06575259e-03],\n",
       "        [  1.57321956e-03,  -2.02015444e-03,  -6.70257332e-03],\n",
       "        [ -7.53513934e-03,   6.59384968e-02,  -2.66660551e-02],\n",
       "        [  2.54968441e-02,   9.00170057e-02,  -5.98939592e-02],\n",
       "        [ -7.51987804e-02,  -5.24848116e-02,   1.65781073e-02],\n",
       "        [ -7.47001469e-02,  -4.07378925e-02,   5.71987909e-02],\n",
       "        [ -2.89448689e-02,   8.39045035e-02,  -1.62912423e-02],\n",
       "        [ -4.29800243e-02,   7.25445936e-02,   1.74703523e-03]],\n",
       "\n",
       "       [[ -4.85604820e-04,   3.47375254e-03,   2.03167666e-03],\n",
       "        [ -3.90869513e-03,   6.82004378e-03,   1.68990925e-02],\n",
       "        [ -1.53861968e-02,  -1.71770094e-02,   1.19077968e-01],\n",
       "        [ -6.51339760e-02,  -1.66799319e-02,   2.82893591e-02],\n",
       "        [ -3.76727858e-02,  -8.13807394e-03,  -2.97405537e-04],\n",
       "        [  2.87814937e-03,   2.05377993e-03,  -5.25526162e-03],\n",
       "        [ -6.25307256e-03,  -1.20859465e-02,   1.24974230e-04],\n",
       "        [  3.71331850e-02,   1.36542341e-02,  -7.72528738e-02],\n",
       "        [  1.35882103e-02,   4.05896787e-02,  -4.62416180e-02],\n",
       "        [ -3.81479764e-02,  -9.00074911e-03,  -4.34107039e-02],\n",
       "        [ -3.32847208e-02,  -4.28644064e-03,  -1.61174607e-02],\n",
       "        [  2.18904208e-02,   6.27107336e-02,  -1.60549594e-02],\n",
       "        [  9.76145636e-02,   2.55595207e-02,  -1.24834645e-01]]])"
      ]
     },
     "execution_count": 32,
     "metadata": {},
     "output_type": "execute_result"
    }
   ],
   "source": [
    "# Velocity\n",
    "h1[0][1][0:20]"
   ]
  },
  {
   "cell_type": "code",
   "execution_count": 35,
   "metadata": {
    "collapsed": true
   },
   "outputs": [
    {
     "data": {
      "text/plain": [
       "array([[ -3.71586576e-02,  -9.69533936e-03,  -2.63092783e-02],\n",
       "       [  4.45020041e-02,   7.60228714e-03,   1.44893975e-02],\n",
       "       [ -3.20818756e-02,   1.84603733e-02,   2.23171587e-03],\n",
       "       [  3.91813235e-02,  -2.51424933e-02,  -2.17954170e-02],\n",
       "       [ -3.60400476e-02,   2.01415694e-02,   3.11657305e-02],\n",
       "       [  7.83671219e-03,  -6.13304345e-03,  -5.67647867e-03],\n",
       "       [  2.62601741e-02,   1.42717579e-02,  -1.79166093e-02],\n",
       "       [ -6.44878640e-02,  -5.06225131e-02,   4.00264644e-02],\n",
       "       [  3.30677406e-02,   3.94007303e-02,  -1.88755107e-02],\n",
       "       [  3.13859846e-02,  -2.37825566e-02,  -3.02722709e-02],\n",
       "       [ -1.35515268e-02,  -3.68990402e-03,   1.84862706e-02],\n",
       "       [  1.98157700e-02,   4.72084437e-03,  -2.32656551e-02],\n",
       "       [ -3.04003870e-02,   2.25580675e-02,   2.54581862e-02],\n",
       "       [  2.21728752e-02,  -1.42805469e-02,   7.09290849e-04],\n",
       "       [ -4.69738234e-02,   1.70646296e-02,   3.07836387e-02],\n",
       "       [  3.92617948e-01,  -2.07857626e-01,   2.84013672e-01],\n",
       "       [ -3.92413057e-01,   1.48954424e-01,  -3.66946645e-01],\n",
       "       [ -4.19843973e-02,  -4.49421815e-03,   9.00117823e-02],\n",
       "       [  3.54409477e-02,   3.73320616e-02,  -4.30554827e-02],\n",
       "       [  8.79418088e-03,   1.19750025e-02,  -5.49712163e-03],\n",
       "       [  1.05919246e-02,   4.06007989e-02,   2.32435871e-02],\n",
       "       [  2.16430896e-02,   2.60621499e-02,  -9.82935423e-03],\n",
       "       [  6.59348443e-03,   2.43782997e-02,   2.25873528e-02],\n",
       "       [  5.88998745e-02,  -5.70650920e-04,  -4.14958981e-02],\n",
       "       [ -1.03076030e-01,  -9.84884621e-02,   2.59282627e-02],\n",
       "       [ -3.32257398e-02,  -1.84424276e-01,  -1.44608247e-02],\n",
       "       [  8.14120931e-02,   1.40670643e-01,  -3.43143534e-02],\n",
       "       [ -6.23473694e-03,   2.61401700e-02,   1.90713795e-02],\n",
       "       [ -2.21966590e-02,   4.35085225e-02,   1.70452742e-02],\n",
       "       [  2.14549834e-03,   5.69424455e-02,   1.15934437e-02],\n",
       "       [  8.01755337e-02,   7.11824234e-02,   8.57553515e-03],\n",
       "       [ -1.08732233e-01,  -1.62068653e-01,  -7.60677357e-05],\n",
       "       [  2.62771536e-02,   1.02797030e-01,  -1.41165510e-02],\n",
       "       [  2.12685653e-02,  -3.72543622e-01,  -8.37817915e-02],\n",
       "       [ -1.65137579e-02,   2.41554576e-01,   8.28322772e-02],\n",
       "       [  1.18494162e-02,   5.74114038e-02,  -8.93375618e-03],\n",
       "       [ -2.53523732e-02,   2.91074476e-02,   2.09967483e-02],\n",
       "       [  3.42827159e-03,   1.02122812e-01,   1.41820340e-02],\n",
       "       [  9.91526484e-02,  -1.05422301e-01,  -5.21629017e-02],\n",
       "       [ -7.80064452e-02,  -3.08380369e-02,   1.87030715e-02],\n",
       "       [ -3.34790166e-03,   7.78661414e-02,   6.25332628e-03],\n",
       "       [ -6.09388461e-02,  -4.56744246e-01,  -3.69243341e-02],\n",
       "       [  9.20836730e-02,   3.90707892e-01,   2.06768350e-02],\n",
       "       [ -4.74959706e-02,   1.42883573e-03,   6.38338292e-03],\n",
       "       [  4.88184253e-03,   5.03736877e-03,  -5.80334429e-04],\n",
       "       [  1.71165257e-02,   1.36303179e-01,   4.10529431e-02],\n",
       "       [  9.25298860e-03,  -1.81754182e-01,  -3.34244630e-02],\n",
       "       [  1.88224660e-02,   5.10689861e-03,  -2.36433754e-02],\n",
       "       [ -5.07765047e-02,  -1.39668139e-01,  -3.08812370e-03],\n",
       "       [  3.51267054e-02,   1.31277170e-01,   2.06363867e-02],\n",
       "       [ -1.83622426e-02,   1.00810091e-02,   2.14632018e-03],\n",
       "       [ -6.16145729e-03,   5.01826094e-02,   5.55974349e-03],\n",
       "       [ -3.96333184e-03,  -1.97800323e-02,  -1.79770843e-03],\n",
       "       [  1.62076963e-02,   1.15028469e-01,   5.69086694e-02],\n",
       "       [ -7.62574559e-04,  -1.42550692e-01,  -7.05552167e-02],\n",
       "       [ -9.56060471e-03,   4.72221816e-02,   1.45605901e-02],\n",
       "       [  2.55163031e-02,   3.21121440e-02,   1.47889890e-02],\n",
       "       [ -1.57406566e-02,  -3.57792893e-01,  -8.09898341e-02],\n",
       "       [  1.06340664e-02,   2.86168659e-01,   5.99057166e-02],\n",
       "       [ -2.01852593e-02,   3.50844319e-02,   6.90887220e-03],\n",
       "       [ -4.13763791e-02,   1.60517203e-02,   3.99177131e-03],\n",
       "       [  6.33513630e-02,   2.78296383e-02,   8.76006908e-03],\n",
       "       [ -9.99365077e-03,  -8.04194651e-02,  -1.25846946e-02],\n",
       "       [  4.70689038e-03,  -1.22474123e-01,  -4.25205888e-02],\n",
       "       [ -1.32935357e-02,   6.53532710e-02,   2.80810599e-02],\n",
       "       [  1.91884346e-02,   4.30376264e-02,   1.53465088e-02],\n",
       "       [ -1.35022529e-02,   2.96453349e-02,  -1.25510333e-02]])"
      ]
     },
     "execution_count": 35,
     "metadata": {},
     "output_type": "execute_result"
    }
   ],
   "source": [
    "# Accelaration\n",
    "h1[0][2][:,4,:]"
   ]
  },
  {
   "cell_type": "code",
   "execution_count": 37,
   "metadata": {
    "collapsed": false
   },
   "outputs": [
    {
     "data": {
      "text/plain": [
       "(array([  1.,   0.,   0.,   2.,  29.,  30.,   4.,   0.,   0.,   1.]),\n",
       " array([ -3.92413057e-01,  -3.13909957e-01,  -2.35406856e-01,\n",
       "         -1.56903756e-01,  -7.84006552e-02,   1.02445223e-04,\n",
       "          7.86055457e-02,   1.57108646e-01,   2.35611747e-01,\n",
       "          3.14114847e-01,   3.92617948e-01]),\n",
       " <a list of 10 Patch objects>)"
      ]
     },
     "execution_count": 37,
     "metadata": {},
     "output_type": "execute_result"
    },
    {
     "data": {
      "image/png": "[encoded data removed]",
      "text/plain": [
       "<matplotlib.figure.Figure at 0x118b3fda0>"
      ]
     },
     "metadata": {},
     "output_type": "display_data"
    }
   ],
   "source": [
    "# x-axis\n",
    "plt.hist(h1[0][2][:,4,0])"
   ]
  },
  {
   "cell_type": "code",
   "execution_count": 43,
   "metadata": {
    "collapsed": false
   },
   "outputs": [
    {
     "data": {
      "text/plain": [
       "(array([  2.,   1.,   1.,   6.,   4.,  38.,  10.,   2.,   2.,   1.]),\n",
       " array([-0.45674425, -0.37199903, -0.28725382, -0.2025086 , -0.11776339,\n",
       "        -0.03301818,  0.05172704,  0.13647225,  0.22121746,  0.30596268,\n",
       "         0.39070789]),\n",
       " <a list of 10 Patch objects>)"
      ]
     },
     "execution_count": 43,
     "metadata": {},
     "output_type": "execute_result"
    },
    {
     "data": {
      "image/png": "[encoded data removed]",
      "text/plain": [
       "<matplotlib.figure.Figure at 0x119b86780>"
      ]
     },
     "metadata": {},
     "output_type": "display_data"
    }
   ],
   "source": [
    "# y-axis -hand\n",
    "plt.hist(h1[0][2][:,4,1])"
   ]
  },
  {
   "cell_type": "code",
   "execution_count": 40,
   "metadata": {
    "collapsed": false
   },
   "outputs": [
    {
     "data": {
      "text/plain": [
       "(array([  3.,   2.,   2.,   9.,  13.,   9.,  14.,   9.,   2.,   4.]),\n",
       " array([-0.00656225, -0.00535561, -0.00414897, -0.00294232, -0.00173568,\n",
       "        -0.00052903,  0.00067761,  0.00188425,  0.0030909 ,  0.00429754,\n",
       "         0.00550418]),\n",
       " <a list of 10 Patch objects>)"
      ]
     },
     "execution_count": 40,
     "metadata": {},
     "output_type": "execute_result"
    },
    {
     "data": {
      "image/png": "[encoded data removed]",
      "text/plain": [
       "<matplotlib.figure.Figure at 0x115f8dd68>"
      ]
     },
     "metadata": {},
     "output_type": "display_data"
    }
   ],
   "source": [
    "# y-axis -head\n",
    "plt.hist(h1[0][2][:,0,1])"
   ]
  },
  {
   "cell_type": "code",
   "execution_count": 39,
   "metadata": {
    "collapsed": false
   },
   "outputs": [
    {
     "data": {
      "text/plain": [
       "(array([  1.,   0.,   0.,   0.,   7.,  47.,  10.,   1.,   0.,   1.]),\n",
       " array([-0.36694665, -0.30185061, -0.23675458, -0.17165855, -0.10656252,\n",
       "        -0.04146649,  0.02362954,  0.08872558,  0.15382161,  0.21891764,\n",
       "         0.28401367]),\n",
       " <a list of 10 Patch objects>)"
      ]
     },
     "execution_count": 39,
     "metadata": {},
     "output_type": "execute_result"
    },
    {
     "data": {
      "image/png": "[encoded data removed]",
      "text/plain": [
       "<matplotlib.figure.Figure at 0x118e523c8>"
      ]
     },
     "metadata": {},
     "output_type": "display_data"
    }
   ],
   "source": [
    "# z-axis\n",
    "plt.hist(h1[0][2][:,4,2])"
   ]
  },
  {
   "cell_type": "code",
   "execution_count": 340,
   "metadata": {
    "collapsed": true
   },
   "outputs": [],
   "source": [
    "a_all = np.asarray([x[0][2] for x in data]).flatten()"
   ]
  },
  {
   "cell_type": "code",
   "execution_count": 371,
   "metadata": {
    "collapsed": false
   },
   "outputs": [
    {
     "data": {
      "text/plain": [
       "(array([  3.00000000e+00,   0.00000000e+00,   0.00000000e+00,\n",
       "          1.00000000e+00,   1.00000000e+00,   2.00000000e+00,\n",
       "          0.00000000e+00,   0.00000000e+00,   2.00000000e+00,\n",
       "          7.00000000e+00,   3.00000000e+00,   0.00000000e+00,\n",
       "          3.00000000e+00,   7.00000000e+00,   5.00000000e+01,\n",
       "          2.26000000e+02,   2.57000000e+03,   4.52800000e+03,\n",
       "          1.17900000e+04,   8.13300000e+03,   4.16800000e+03,\n",
       "          3.13000000e+03,   3.01500000e+03,   2.33000000e+02,\n",
       "          2.30000000e+01,   4.00000000e+00,   3.00000000e+00,\n",
       "          1.00000000e+00,   0.00000000e+00,   0.00000000e+00,\n",
       "          0.00000000e+00,   0.00000000e+00,   0.00000000e+00,\n",
       "          0.00000000e+00,   0.00000000e+00,   1.00000000e+00,\n",
       "          0.00000000e+00,   0.00000000e+00,   0.00000000e+00,\n",
       "          0.00000000e+00,   0.00000000e+00,   0.00000000e+00,\n",
       "          1.00000000e+00,   0.00000000e+00,   0.00000000e+00,\n",
       "          0.00000000e+00,   0.00000000e+00,   0.00000000e+00,\n",
       "          2.00000000e+00,   1.00000000e+00]),\n",
       " array([-5.1594399 , -4.87884756, -4.59825521, -4.31766286, -4.03707052,\n",
       "        -3.75647817, -3.47588582, -3.19529348, -2.91470113, -2.63410878,\n",
       "        -2.35351644, -2.07292409, -1.79233174, -1.5117394 , -1.23114705,\n",
       "        -0.9505547 , -0.66996236, -0.38937001, -0.10877766,  0.17181468,\n",
       "         0.45240703,  0.73299938,  1.01359172,  1.29418407,  1.57477642,\n",
       "         1.85536876,  2.13596111,  2.41655346,  2.6971458 ,  2.97773815,\n",
       "         3.2583305 ,  3.53892284,  3.81951519,  4.10010754,  4.38069988,\n",
       "         4.66129223,  4.94188458,  5.22247692,  5.50306927,  5.78366162,\n",
       "         6.06425396,  6.34484631,  6.62543866,  6.906031  ,  7.18662335,\n",
       "         7.4672157 ,  7.74780804,  8.02840039,  8.30899274,  8.58958508,\n",
       "         8.87017743]),\n",
       " <a list of 50 Patch objects>)"
      ]
     },
     "execution_count": 371,
     "metadata": {},
     "output_type": "execute_result"
    },
    {
     "data": {
      "image/png": "[encoded data removed]",
      "text/plain": [
       "<matplotlib.figure.Figure at 0x11b9bf5c0>"
      ]
     },
     "metadata": {},
     "output_type": "display_data"
    }
   ],
   "source": [
    "#a values:\n",
    "plt.hist(a_all, bins =50)"
   ]
  },
  {
   "cell_type": "code",
   "execution_count": null,
   "metadata": {
    "collapsed": true
   },
   "outputs": [],
   "source": []
  },
  {
   "cell_type": "code",
   "execution_count": 117,
   "metadata": {
    "collapsed": false
   },
   "outputs": [
    {
     "name": "stdout",
     "output_type": "stream",
     "text": [
      "./data_raw/S002C003P010R002A010.pickle\n",
      "./data_raw/S003C003P002R002A010.pickle\n",
      "./data_raw/S004C002P008R001A010.pickle\n",
      "./data_raw/S005C002P016R001A010.pickle\n",
      "./data_raw/S006C003P007R002A010.pickle\n",
      "./data_raw/S007C002P026R001A010.pickle\n",
      "./data_raw/S007C003P027R002A010.pickle\n",
      "./data_raw/S008C002P001R001A010.pickle\n",
      "./data_raw/S011C002P027R001A010.pickle\n"
     ]
    }
   ],
   "source": [
    "data = util.pickle_files_to_action_series(pickle_files, idxKeep)"
   ]
  },
  {
   "cell_type": "raw",
   "metadata": {},
   "source": [
    "Choose hI to be (-0.6, -0.4, -0.2, 0, 0.2)"
   ]
  },
  {
   "cell_type": "code",
   "execution_count": 47,
   "metadata": {
    "collapsed": false
   },
   "outputs": [
    {
     "data": {
      "text/plain": [
       "(78,)"
      ]
     },
     "execution_count": 47,
     "metadata": {},
     "output_type": "execute_result"
    }
   ],
   "source": [
    "with open('./data_raw/S004C002P008R001A010.pickle', 'rb') as fp:\n",
    "    bodyinfo_check = pickle.load(fp)\n",
    "\n",
    "bodyinfo_check.shape\n",
    "# Those seem to be broken files"
   ]
  },
  {
   "cell_type": "code",
   "execution_count": 48,
   "metadata": {
    "collapsed": false
   },
   "outputs": [
    {
     "data": {
      "text/plain": [
       "972"
      ]
     },
     "execution_count": 48,
     "metadata": {},
     "output_type": "execute_result"
    }
   ],
   "source": [
    "len(data)"
   ]
  },
  {
   "cell_type": "code",
   "execution_count": 66,
   "metadata": {
    "collapsed": false
   },
   "outputs": [
    {
     "data": {
      "text/plain": [
       "(69, 13, 3)"
      ]
     },
     "execution_count": 66,
     "metadata": {},
     "output_type": "execute_result"
    }
   ],
   "source": [
    "data[0][0].shape"
   ]
  },
  {
   "cell_type": "markdown",
   "metadata": {},
   "source": [
    "## Visualize normalized state"
   ]
  },
  {
   "cell_type": "code",
   "execution_count": 85,
   "metadata": {
    "collapsed": false
   },
   "outputs": [],
   "source": [
    "state = data[0][0]\n",
    "frame = 1\n",
    "xs_1 = state[frame,[0,1,2,3,4,9,10] ,0]\n",
    "xs_2 = state[frame,[0,5,6,7,8,11,12],0]\n",
    "ys_1 = state[frame,[0,1,2,3,4,9,10],1] \n",
    "ys_2 = state[frame,[0,5,6,7,8,11,12],1]\n",
    "zs_1 = state[frame,[0,1,2,3,4,9,10],2] \n",
    "zs_2 = state[frame,[0,5,6,7,8,11,12],2]"
   ]
  },
  {
   "cell_type": "code",
   "execution_count": 83,
   "metadata": {
    "collapsed": true
   },
   "outputs": [],
   "source": [
    "x_max, x_min = np.max(state[:,:,0]), np.min(state[:,:,0])\n",
    "y_max, y_min = np.max(state[:,:,1]), np.min(state[:,:,1])\n",
    "z_max, z_min = np.max(state[:,:,2]), np.min(state[:,:,2])"
   ]
  },
  {
   "cell_type": "code",
   "execution_count": 86,
   "metadata": {
    "collapsed": false
   },
   "outputs": [
    {
     "data": {
      "image/png": "[encoded data removed]",
      "text/plain": [
       "<matplotlib.figure.Figure at 0x11a8509b0>"
      ]
     },
     "metadata": {},
     "output_type": "display_data"
    }
   ],
   "source": [
    "from mpl_toolkits.mplot3d import Axes3D\n",
    "fig = plt.figure()\n",
    "ax = fig.add_subplot(111, projection='3d')\n",
    "ax.set_xlim3d(x_min-1e-3, x_max+1e-3)\n",
    "ax.set_ylim3d(y_min-1e-3, y_max+1e-3)\n",
    "ax.set_zlim3d(z_min-1e-3, z_max+1e-3)\n",
    "ax.plot(xs_1, ys_1, zs_1, marker = '^')\n",
    "ax.plot(xs_2, ys_2, zs_2, marker = '^')\n",
    "fig.savefig('test.png')"
   ]
  },
  {
   "cell_type": "code",
   "execution_count": 227,
   "metadata": {
    "collapsed": true
   },
   "outputs": [],
   "source": [
    "def getImage(data, key, state =None):\n",
    "    if state is None:\n",
    "        state = data[key][0]\n",
    "    x_max, x_min = np.max(state[:,:,0]), np.min(state[:,:,0])\n",
    "    y_max, y_min = np.max(state[:,:,1]), np.min(state[:,:,1])\n",
    "    z_max, z_min = np.max(state[:,:,2]), np.min(state[:,:,2])\n",
    "    path = './plot_' + str(key)\n",
    "    images = []\n",
    "    if not os.path.isdir(path):\n",
    "        os.mkdir(path)\n",
    "    for frame in range(len(state)):\n",
    "        xs_1 = state[frame,[0,1,2,3,4,9,10] ,0]\n",
    "        xs_2 = state[frame,[0,5,6,7,8,11,12],0]\n",
    "        ys_1 = state[frame,[0,1,2,3,4,9,10],1] \n",
    "        ys_2 = state[frame,[0,5,6,7,8,11,12],1]\n",
    "        zs_1 = state[frame,[0,1,2,3,4,9,10],2] \n",
    "        zs_2 = state[frame,[0,5,6,7,8,11,12],2]\n",
    "\n",
    "        fig = plt.figure()\n",
    "        ax = fig.add_subplot(111, projection='3d')\n",
    "        ax.set_xlim3d(x_min-1e-3, x_max+1e-3)\n",
    "        ax.set_ylim3d(y_min-1e-3, y_max+1e-3)\n",
    "        ax.set_zlim3d(z_min-1e-3, z_max+1e-3)\n",
    "        ax.plot(xs_1, ys_1, zs_1, marker = '^')\n",
    "        ax.plot(xs_2, ys_2, zs_2, marker = '^')\n",
    "        fig.savefig(path + '/plot_' + str(frame) + '.png')\n",
    "        plt.close(fig)\n",
    "        images.append(imageio.imread(path + '/plot_' + str(frame) + '.png'))\n",
    "    imageio.mimsave(path + '/movie.gif', images)"
   ]
  },
  {
   "cell_type": "code",
   "execution_count": 106,
   "metadata": {
    "collapsed": false
   },
   "outputs": [],
   "source": [
    "getImage(data, 0)"
   ]
  },
  {
   "cell_type": "code",
   "execution_count": 109,
   "metadata": {
    "collapsed": false
   },
   "outputs": [
    {
     "data": {
      "text/plain": [
       "58"
      ]
     },
     "execution_count": 109,
     "metadata": {},
     "output_type": "execute_result"
    }
   ],
   "source": [
    "len(data[100][0])"
   ]
  },
  {
   "cell_type": "code",
   "execution_count": 121,
   "metadata": {
    "collapsed": false
   },
   "outputs": [],
   "source": [
    "getImage(data, 971)"
   ]
  },
  {
   "cell_type": "code",
   "execution_count": 118,
   "metadata": {
    "collapsed": false
   },
   "outputs": [
    {
     "data": {
      "text/plain": [
       "'./data_raw/S002C003P012R001A010.pickle'"
      ]
     },
     "execution_count": 118,
     "metadata": {},
     "output_type": "execute_result"
    }
   ],
   "source": [
    "data[100][-1]"
   ]
  },
  {
   "cell_type": "code",
   "execution_count": 180,
   "metadata": {
    "collapsed": true
   },
   "outputs": [],
   "source": [
    "pickle.dump(data, open('data.p', 'wb'))"
   ]
  },
  {
   "cell_type": "markdown",
   "metadata": {},
   "source": [
    "## Build model"
   ]
  },
  {
   "cell_type": "code",
   "execution_count": 207,
   "metadata": {
    "collapsed": true
   },
   "outputs": [],
   "source": [
    "import torch\n",
    "import torch.nn as nn\n",
    "from torch.autograd import Variable\n",
    "import pickle\n",
    "import torch.nn.functional as F\n",
    "from torch.utils.data import Dataset\n",
    "from torch import optim\n",
    "import random"
   ]
  },
  {
   "cell_type": "code",
   "execution_count": 251,
   "metadata": {
    "collapsed": true
   },
   "outputs": [],
   "source": [
    "gamma = 0.95\n",
    "def getReward(seq, gamma):\n",
    "    len_seq = len(seq)+1\n",
    "    idx = np.arange(len_seq)\n",
    "    reward = gamma**(len_seq - idx-1)\n",
    "    reward = np.diff(reward)\n",
    "    return reward"
   ]
  },
  {
   "cell_type": "code",
   "execution_count": 252,
   "metadata": {
    "collapsed": false
   },
   "outputs": [
    {
     "data": {
      "text/plain": [
       "array([ 0.04072531,  0.04286875,  0.045125  ,  0.0475    ,  0.05      ])"
      ]
     },
     "execution_count": 252,
     "metadata": {},
     "output_type": "execute_result"
    }
   ],
   "source": [
    "a = [1,2,3,4,5]\n",
    "getReward(a, gamma)"
   ]
  },
  {
   "cell_type": "code",
   "execution_count": 125,
   "metadata": {
    "collapsed": true
   },
   "outputs": [],
   "source": [
    "import pdb"
   ]
  },
  {
   "cell_type": "code",
   "execution_count": 343,
   "metadata": {
    "collapsed": false
   },
   "outputs": [],
   "source": [
    "class skDataset(Dataset):\n",
    "    def __init__(self, data, gamma, length):\n",
    "        self.data = data\n",
    "        self.gamma = gamma\n",
    "        self.length = length\n",
    "\n",
    "    def __len__(self):\n",
    "        return len(self.data)\n",
    "\n",
    "    def __getitem__(self, key):\n",
    "        item = self.data[key]\n",
    "        v_seq = item[0][1:-1]\n",
    "        d_seq = item[1][0:-1]\n",
    "        a_seq = item[2]\n",
    "        reward = getReward(a_seq, self.gamma)\n",
    "        \n",
    "        pad_len = max(0, self.length - len(v_seq))\n",
    "        v_seq_pad = np.pad(v_seq, pad_width = ((0, pad_len),(0,0), (0,0)), mode = 'constant', constant_values=0)\n",
    "        d_seq_pad = np.pad(d_seq, pad_width = ((0, pad_len),(0,0), (0,0)), mode = 'constant', constant_values=0)\n",
    "        a_seq_pad = np.pad(d_seq, pad_width = ((0, pad_len),(0,0), (0,0)), mode = 'constant', constant_values=0)\n",
    "        a_seq_pad = np.clip(a_seq_pad, -2,2)\n",
    "        reward_pad = np.pad(reward, pad_width = (0, pad_len), mode = 'constant', constant_values=0)\n",
    "        \n",
    "        sample = {'v_seq': torch.from_numpy(v_seq_pad).float(),\n",
    "                  'd_seq': torch.from_numpy(d_seq_pad).float(),\n",
    "                  'a_seq': torch.from_numpy(a_seq_pad).float(),\n",
    "                  'reward': torch.from_numpy(reward_pad).float()}\n",
    "        return sample\n"
   ]
  },
  {
   "cell_type": "code",
   "execution_count": 138,
   "metadata": {
    "collapsed": false
   },
   "outputs": [
    {
     "name": "stdout",
     "output_type": "stream",
     "text": [
      "87.0\n",
      "93.0\n",
      "140\n"
     ]
    }
   ],
   "source": [
    "lsLen = [len(x[0]) for x in data]\n",
    "print(np.percentile(lsLen, 90))\n",
    "print(np.percentile(lsLen, 95))\n",
    "print(np.max(lsLen))"
   ]
  },
  {
   "cell_type": "code",
   "execution_count": 344,
   "metadata": {
    "collapsed": false
   },
   "outputs": [],
   "source": [
    "train = skDataset(data[:-10], gamma, 140)\n",
    "test = skDataset(data[-10:], gamma, 140)"
   ]
  },
  {
   "cell_type": "code",
   "execution_count": 345,
   "metadata": {
    "collapsed": true
   },
   "outputs": [],
   "source": [
    "class gru(nn.Module):\n",
    "    def __init__(self, dimIn, dimLSTM, nLSTM, p_dropOut, lsDim, flg_bn):\n",
    "        super(gru, self).__init__()\n",
    "        self.dimLSTM = dimLSTM\n",
    "        self.nLSTM = nLSTM\n",
    "        self.p_dropOut = p_dropOut\n",
    "        self.flg_bn = flg_bn\n",
    "        self.lsDim = lsDim\n",
    "        \n",
    "        self.lstm = nn.GRU(dimIn, dimLSTM, self.nLSTM, batch_first=True, bidirectional=False, dropout=self.p_dropOut)\n",
    "        self.bns = nn.ModuleList([nn.BatchNorm1d(self.lsDim[i + 1]) for i in range(len(self.lsDim) - 2)])\n",
    "        self.FCs = nn.ModuleList([nn.Linear(self.lsDim[i], self.lsDim[i + 1]) for i in range(len(self.lsDim) - 1)])\n",
    "\n",
    "    def fc_layer(self, x, layer, bn=None):\n",
    "        x = layer(x)\n",
    "        if self.flg_bn:\n",
    "            x = F.relu(bn(x))\n",
    "        else:\n",
    "            x = F.relu(x)\n",
    "        x = F.dropout(x, self.p_dropOut)\n",
    "        return x\n",
    "\n",
    "    def init_hidden(self, batchSize, nLSTM):\n",
    "        return Variable(torch.zeros(nLSTM, batchSize, self.dimLSTM))\n",
    "\n",
    "    def forward(self, v_seq, d_seq):\n",
    "        batchSize, seq_len = v_seq.shape[0], v_seq.shape[1]\n",
    "        in_seq = torch.cat((v_seq, d_seq), 2).view(batchSize, seq_len, -1)\n",
    "        h0 = self.init_hidden(batchSize=batchSize, nLSTM= self.nLSTM)\n",
    "        lstm_out, hidden = self.lstm(in_seq, h0)\n",
    "\n",
    "        z = lstm_out\n",
    "        if len(self.lsDim) > 2:\n",
    "            for i in range(len(self.lsDim) - 2):\n",
    "                z = self.fc_layer(z, self.FCs[i], self.bns[i])\n",
    "\n",
    "        self.y_hat = 2*F.tanh(self.FCs[-1](z))\n",
    "        return self.y_hat\n",
    "\n",
    "    def prediction(self, v_1, d_0, max_len):\n",
    "        batchSize = v_1.shape[0]\n",
    "        v_seq = torch.zeros(batchSize, max_len+1, 13, 3)\n",
    "        v_seq[:,0,:,:] = v_1\n",
    "        d_seq = torch.zeros(batchSize, max_len+1, 13, 3)\n",
    "        d_seq[:,0,:,:] = d_0\n",
    "        a_seq = torch.zeros(batchSize, max_len, 13, 3)\n",
    "        in_seq = torch.cat((v_1, d_0), 2).view(batchSize, 1, -1)\n",
    "        hidden = self.init_hidden(batchSize = batchSize, nLSTM= self.nLSTM)\n",
    "        for i in range(max_len):\n",
    "            lstm_out, hidden = self.lstm(in_seq, hidden)\n",
    "            z = lstm_out\n",
    "            if len(self.lsDim) > 2:\n",
    "                for i in range(len(self.lsDim) - 2):\n",
    "                    z = self.fc_layer(z, self.FCs[i], self.bns[i])\n",
    "            y_hat = 2*F.tanh(self.FCs[-1](z))\n",
    "            a_i = y_hat.view(batchSize, -1, 3)\n",
    "            a_seq[:,i,:,:] = a_i\n",
    "            d_seq[:,i+1,:,:] = d_seq[:,i,:,:] + a_seq[:,i,:,:]\n",
    "            v_seq[:,i+1,:,:] = d_seq[:,i+1,:,:] + v_seq[:,i,:,:]\n",
    "            in_seq = torch.cat((v_seq[:,(i+1):(i+2),:,:], d_seq[:,(i+1):(i+2),:,:]), 2).view(batchSize,1, -1)\n",
    "        return v_seq, d_seq, a_seq"
   ]
  },
  {
   "cell_type": "code",
   "execution_count": 346,
   "metadata": {
    "collapsed": true
   },
   "outputs": [],
   "source": [
    "batchSize = 32\n",
    "train_loader = torch.utils.data.DataLoader(train, batch_size=batchSize, shuffle=True, pin_memory=True)\n",
    "test_loader = torch.utils.data.DataLoader(test, batch_size=batchSize, shuffle=False, pin_memory=True)"
   ]
  },
  {
   "cell_type": "code",
   "execution_count": 359,
   "metadata": {
    "collapsed": false
   },
   "outputs": [
    {
     "name": "stderr",
     "output_type": "stream",
     "text": [
      "/Users/jshliu/anaconda/envs/py36_inex/lib/python3.6/site-packages/torch/nn/modules/rnn.py:38: UserWarning: dropout option adds dropout after all but last recurrent layer, so non-zero dropout expects num_layers greater than 1, but got dropout=0.5 and num_layers=1\n",
      "  \"num_layers={}\".format(dropout, num_layers))\n"
     ]
    }
   ],
   "source": [
    "model = gru(dimIn = 78, dimLSTM = 128, nLSTM = 1, p_dropOut = 0.5, lsDim = [128,39], flg_bn = False)"
   ]
  },
  {
   "cell_type": "code",
   "execution_count": 362,
   "metadata": {
    "collapsed": false
   },
   "outputs": [],
   "source": [
    "lr = 0.001\n",
    "decay_per_epoch = 10\n",
    "criterion = torch.nn.MSELoss(reduction='none')\n",
    "opt = optim.Adam(model.parameters(), lr=lr)\n",
    "n_batch = 20\n",
    "tf = 0.7"
   ]
  },
  {
   "cell_type": "code",
   "execution_count": 375,
   "metadata": {
    "collapsed": true
   },
   "outputs": [],
   "source": [
    "tf=0.5"
   ]
  },
  {
   "cell_type": "code",
   "execution_count": 376,
   "metadata": {
    "collapsed": false
   },
   "outputs": [
    {
     "name": "stderr",
     "output_type": "stream",
     "text": [
      "/Users/jshliu/anaconda/envs/py36_inex/lib/python3.6/site-packages/torch/nn/functional.py:995: UserWarning: nn.functional.tanh is deprecated. Use torch.tanh instead.\n",
      "  warnings.warn(\"nn.functional.tanh is deprecated. Use torch.tanh instead.\")\n"
     ]
    },
    {
     "name": "stdout",
     "output_type": "stream",
     "text": [
      "Use TF False, Train Epoch: 0, Loss: 1.3498, Test loss: 1.9995\n",
      "Use TF True, Train Epoch: 1, Loss: 0.2909, Test loss: 1.9990\n",
      "Use TF True, Train Epoch: 2, Loss: 0.2193, Test loss: 1.9987\n",
      "Use TF False, Train Epoch: 3, Loss: 1.1776, Test loss: 1.9899\n",
      "Use TF False, Train Epoch: 4, Loss: 1.1971, Test loss: 1.9782\n",
      "Use TF True, Train Epoch: 5, Loss: 0.2347, Test loss: 1.9728\n",
      "Use TF True, Train Epoch: 6, Loss: 0.2720, Test loss: 1.9721\n",
      "Use TF False, Train Epoch: 7, Loss: 0.8686, Test loss: 1.9730\n",
      "Use TF False, Train Epoch: 8, Loss: 1.1024, Test loss: 1.9727\n",
      "Use TF False, Train Epoch: 9, Loss: 1.6130, Test loss: 1.9614\n",
      "Use TF False, Train Epoch: 10, Loss: 1.2676, Test loss: 1.9510\n",
      "Use TF False, Train Epoch: 11, Loss: 1.2275, Test loss: 1.9518\n",
      "Use TF False, Train Epoch: 12, Loss: 1.2335, Test loss: 1.9453\n",
      "Use TF False, Train Epoch: 13, Loss: 1.1106, Test loss: 1.9364\n",
      "Use TF False, Train Epoch: 14, Loss: 1.1168, Test loss: 1.9279\n",
      "Use TF True, Train Epoch: 15, Loss: 0.1826, Test loss: 1.9248\n",
      "Use TF True, Train Epoch: 16, Loss: 0.2679, Test loss: 1.9242\n",
      "Use TF False, Train Epoch: 17, Loss: 1.1351, Test loss: 1.9210\n",
      "Use TF True, Train Epoch: 18, Loss: 0.2752, Test loss: 1.9204\n",
      "Use TF False, Train Epoch: 19, Loss: 0.8794, Test loss: 1.9135\n",
      "Use TF False, Train Epoch: 20, Loss: 1.0211, Test loss: 1.9022\n",
      "Use TF False, Train Epoch: 21, Loss: 1.5413, Test loss: 1.8999\n",
      "Use TF True, Train Epoch: 22, Loss: 0.3146, Test loss: 1.8980\n",
      "Use TF True, Train Epoch: 23, Loss: 0.1985, Test loss: 1.8976\n",
      "Use TF False, Train Epoch: 24, Loss: 1.1156, Test loss: 1.9035\n",
      "Use TF False, Train Epoch: 25, Loss: 1.0831, Test loss: 1.9022\n",
      "Use TF True, Train Epoch: 26, Loss: 0.2743, Test loss: 1.9017\n",
      "Use TF True, Train Epoch: 27, Loss: 0.3045, Test loss: 1.9015\n",
      "Use TF True, Train Epoch: 28, Loss: 0.1932, Test loss: 1.9013\n",
      "Use TF False, Train Epoch: 29, Loss: 0.9360, Test loss: 1.8929\n",
      "Use TF False, Train Epoch: 30, Loss: 1.0498, Test loss: 1.8824\n",
      "Use TF True, Train Epoch: 31, Loss: 0.2769, Test loss: 1.8771\n",
      "Use TF False, Train Epoch: 32, Loss: 1.1789, Test loss: 1.8735\n",
      "Use TF True, Train Epoch: 33, Loss: 0.2206, Test loss: 1.8703\n",
      "Use TF True, Train Epoch: 34, Loss: 0.2665, Test loss: 1.8699\n",
      "Use TF False, Train Epoch: 35, Loss: 1.3468, Test loss: 1.8630\n",
      "Use TF False, Train Epoch: 36, Loss: 0.9994, Test loss: 1.8528\n",
      "Use TF True, Train Epoch: 37, Loss: 0.2095, Test loss: 1.8540\n",
      "Use TF False, Train Epoch: 38, Loss: 1.4138, Test loss: 1.8506\n",
      "Use TF True, Train Epoch: 39, Loss: 0.2277, Test loss: 1.8475\n",
      "Use TF False, Train Epoch: 40, Loss: 1.0550, Test loss: 1.8509\n",
      "Use TF True, Train Epoch: 41, Loss: 0.2393, Test loss: 1.8487\n",
      "Use TF False, Train Epoch: 42, Loss: 1.1512, Test loss: 1.8418\n",
      "Use TF False, Train Epoch: 43, Loss: 1.1892, Test loss: 1.8462\n",
      "Use TF True, Train Epoch: 44, Loss: 0.2729, Test loss: 1.8419\n",
      "Use TF True, Train Epoch: 45, Loss: 0.2408, Test loss: 1.8412\n",
      "Use TF True, Train Epoch: 46, Loss: 0.2572, Test loss: 1.8410\n",
      "Use TF False, Train Epoch: 47, Loss: 1.1919, Test loss: 1.8324\n",
      "Use TF True, Train Epoch: 48, Loss: 0.2607, Test loss: 1.8305\n",
      "Use TF True, Train Epoch: 49, Loss: 0.2348, Test loss: 1.8301\n",
      "Use TF False, Train Epoch: 50, Loss: 1.2303, Test loss: 1.8262\n",
      "Use TF False, Train Epoch: 51, Loss: 1.0019, Test loss: 1.8211\n",
      "Use TF False, Train Epoch: 52, Loss: 1.2123, Test loss: 1.8157\n",
      "Use TF True, Train Epoch: 53, Loss: 0.2246, Test loss: 1.8185\n",
      "Use TF False, Train Epoch: 54, Loss: 1.1123, Test loss: 1.8133\n",
      "Use TF False, Train Epoch: 55, Loss: 1.0994, Test loss: 1.8028\n",
      "Use TF True, Train Epoch: 56, Loss: 0.1921, Test loss: 1.7996\n",
      "Use TF True, Train Epoch: 57, Loss: 0.2648, Test loss: 1.7991\n",
      "Use TF True, Train Epoch: 58, Loss: 0.2409, Test loss: 1.7989\n",
      "Use TF True, Train Epoch: 59, Loss: 0.2976, Test loss: 1.7988\n",
      "Use TF False, Train Epoch: 60, Loss: 1.0179, Test loss: 1.7988\n",
      "Use TF True, Train Epoch: 61, Loss: 0.2371, Test loss: 1.8044\n",
      "Use TF False, Train Epoch: 62, Loss: 1.1136, Test loss: 1.7938\n",
      "Use TF True, Train Epoch: 63, Loss: 0.2284, Test loss: 1.7908\n",
      "Use TF False, Train Epoch: 64, Loss: 0.8969, Test loss: 1.7841\n",
      "Use TF True, Train Epoch: 65, Loss: 0.2137, Test loss: 1.7817\n",
      "Use TF True, Train Epoch: 66, Loss: 0.2459, Test loss: 1.7813\n",
      "Use TF True, Train Epoch: 67, Loss: 0.1950, Test loss: 1.7811\n",
      "Use TF False, Train Epoch: 68, Loss: 0.9329, Test loss: 1.7812\n",
      "Use TF False, Train Epoch: 69, Loss: 0.8570, Test loss: 1.7777\n",
      "Use TF False, Train Epoch: 70, Loss: 1.2336, Test loss: 1.7703\n",
      "Use TF False, Train Epoch: 71, Loss: 1.0564, Test loss: 1.7651\n",
      "Use TF True, Train Epoch: 72, Loss: 0.2137, Test loss: 1.7613\n",
      "Use TF False, Train Epoch: 73, Loss: 1.1148, Test loss: 1.7583\n",
      "Use TF True, Train Epoch: 74, Loss: 0.3004, Test loss: 1.7541\n",
      "Use TF True, Train Epoch: 75, Loss: 0.2022, Test loss: 1.7536\n",
      "Use TF True, Train Epoch: 76, Loss: 0.1929, Test loss: 1.7534\n",
      "Use TF False, Train Epoch: 77, Loss: 0.8439, Test loss: 1.7508\n",
      "Use TF False, Train Epoch: 78, Loss: 1.0703, Test loss: 1.7472\n",
      "Use TF False, Train Epoch: 79, Loss: 0.9087, Test loss: 1.7378\n",
      "Use TF False, Train Epoch: 80, Loss: 0.7090, Test loss: 1.7345\n",
      "Use TF True, Train Epoch: 81, Loss: 0.1904, Test loss: 1.7326\n",
      "Use TF False, Train Epoch: 82, Loss: 1.0018, Test loss: 1.7291\n",
      "Use TF False, Train Epoch: 83, Loss: 0.9770, Test loss: 1.7266\n",
      "Use TF True, Train Epoch: 84, Loss: 0.2185, Test loss: 1.7247\n",
      "Use TF True, Train Epoch: 85, Loss: 0.2189, Test loss: 1.7244\n",
      "Use TF False, Train Epoch: 86, Loss: 0.9181, Test loss: 1.7213\n",
      "Use TF True, Train Epoch: 87, Loss: 0.2003, Test loss: 1.7198\n",
      "Use TF False, Train Epoch: 88, Loss: 1.0778, Test loss: 1.7133\n",
      "Use TF False, Train Epoch: 89, Loss: 0.9158, Test loss: 1.7051\n",
      "Use TF True, Train Epoch: 90, Loss: 0.3037, Test loss: 1.7045\n",
      "Use TF False, Train Epoch: 91, Loss: 0.9104, Test loss: 1.7030\n",
      "Use TF True, Train Epoch: 92, Loss: 0.1791, Test loss: 1.7096\n",
      "Use TF True, Train Epoch: 93, Loss: 0.2095, Test loss: 1.7106\n",
      "Use TF True, Train Epoch: 94, Loss: 0.2486, Test loss: 1.7106\n",
      "Use TF True, Train Epoch: 95, Loss: 0.2867, Test loss: 1.7105\n",
      "Use TF False, Train Epoch: 96, Loss: 0.9579, Test loss: 1.7048\n",
      "Use TF False, Train Epoch: 97, Loss: 1.1374, Test loss: 1.7027\n",
      "Use TF True, Train Epoch: 98, Loss: 0.2008, Test loss: 1.9093\n",
      "Use TF False, Train Epoch: 99, Loss: 1.0718, Test loss: 1.7688\n",
      "Use TF False, Train Epoch: 100, Loss: 0.7349, Test loss: 1.7482\n",
      "Use TF False, Train Epoch: 101, Loss: 0.8542, Test loss: 1.7131\n",
      "Use TF True, Train Epoch: 102, Loss: 0.1884, Test loss: 1.7021\n",
      "Use TF True, Train Epoch: 103, Loss: 0.1985, Test loss: 1.7008\n",
      "Use TF True, Train Epoch: 104, Loss: 0.2998, Test loss: 1.7006\n",
      "Use TF True, Train Epoch: 105, Loss: 0.2098, Test loss: 1.7005\n",
      "Use TF True, Train Epoch: 106, Loss: 0.2465, Test loss: 1.7004\n",
      "Use TF False, Train Epoch: 107, Loss: 1.3528, Test loss: 1.6891\n",
      "Use TF True, Train Epoch: 108, Loss: 0.2408, Test loss: 1.6832\n",
      "Use TF False, Train Epoch: 109, Loss: 0.9132, Test loss: 1.6806\n",
      "Use TF True, Train Epoch: 110, Loss: 0.2763, Test loss: 1.6789\n",
      "Use TF False, Train Epoch: 111, Loss: 0.8578, Test loss: 1.6792\n",
      "Use TF True, Train Epoch: 112, Loss: 0.2150, Test loss: 1.6788\n",
      "Use TF False, Train Epoch: 113, Loss: 0.9846, Test loss: 1.6766\n",
      "Use TF False, Train Epoch: 114, Loss: 1.4021, Test loss: 1.6681\n",
      "Use TF True, Train Epoch: 115, Loss: 0.2166, Test loss: 1.6642\n",
      "Use TF False, Train Epoch: 116, Loss: 0.8888, Test loss: 1.6588\n",
      "Use TF False, Train Epoch: 117, Loss: 1.0653, Test loss: 1.6537\n",
      "Use TF True, Train Epoch: 118, Loss: 0.1999, Test loss: 1.6519\n",
      "Use TF False, Train Epoch: 119, Loss: 0.7341, Test loss: 1.6522\n",
      "Use TF False, Train Epoch: 120, Loss: 1.0961, Test loss: 1.6473\n",
      "Use TF False, Train Epoch: 121, Loss: 1.0270, Test loss: 1.6424\n",
      "Use TF False, Train Epoch: 122, Loss: 0.7158, Test loss: 1.6382\n",
      "Use TF False, Train Epoch: 123, Loss: 1.0275, Test loss: 1.6356\n",
      "Use TF True, Train Epoch: 124, Loss: 0.2135, Test loss: 1.6366\n",
      "Use TF False, Train Epoch: 125, Loss: 0.7557, Test loss: 1.6357\n",
      "Use TF False, Train Epoch: 126, Loss: 0.7875, Test loss: 1.6311\n",
      "Use TF True, Train Epoch: 127, Loss: 0.1850, Test loss: 1.6295\n",
      "Use TF False, Train Epoch: 128, Loss: 0.7358, Test loss: 1.6254\n",
      "Use TF False, Train Epoch: 129, Loss: 0.8997, Test loss: 1.6242\n",
      "Use TF True, Train Epoch: 130, Loss: 0.2707, Test loss: 1.6260\n",
      "Use TF True, Train Epoch: 131, Loss: 0.2206, Test loss: 1.6261\n",
      "Use TF True, Train Epoch: 132, Loss: 0.2307, Test loss: 1.6260\n",
      "Use TF False, Train Epoch: 133, Loss: 0.8700, Test loss: 1.6198\n",
      "Use TF True, Train Epoch: 134, Loss: 0.2253, Test loss: 1.6172\n",
      "Use TF True, Train Epoch: 135, Loss: 0.2775, Test loss: 1.6168\n",
      "Use TF False, Train Epoch: 136, Loss: 0.8965, Test loss: 1.6120\n",
      "Use TF False, Train Epoch: 137, Loss: 0.8143, Test loss: 1.6088\n",
      "Use TF False, Train Epoch: 138, Loss: 0.9570, Test loss: 1.6073\n",
      "Use TF True, Train Epoch: 139, Loss: 0.2350, Test loss: 1.6061\n",
      "Use TF True, Train Epoch: 140, Loss: 0.2343, Test loss: 1.6059\n",
      "Use TF True, Train Epoch: 141, Loss: 0.2322, Test loss: 1.6058\n",
      "Use TF False, Train Epoch: 142, Loss: 1.0158, Test loss: 1.6028\n",
      "Use TF False, Train Epoch: 143, Loss: 0.9340, Test loss: 1.5989\n",
      "Use TF False, Train Epoch: 144, Loss: 1.1097, Test loss: 1.5990\n",
      "Use TF False, Train Epoch: 145, Loss: 0.7567, Test loss: 1.5963\n",
      "Use TF False, Train Epoch: 146, Loss: 0.8617, Test loss: 1.5920\n",
      "Use TF True, Train Epoch: 147, Loss: 0.2619, Test loss: 1.5903\n",
      "Use TF False, Train Epoch: 148, Loss: 0.7998, Test loss: 1.5912\n",
      "Use TF True, Train Epoch: 149, Loss: 0.2182, Test loss: 1.5911\n",
      "Use TF False, Train Epoch: 150, Loss: 0.7947, Test loss: 1.5873\n",
      "Use TF True, Train Epoch: 151, Loss: 0.1835, Test loss: 1.5851\n",
      "Use TF True, Train Epoch: 152, Loss: 0.1633, Test loss: 1.5848\n",
      "Use TF True, Train Epoch: 153, Loss: 0.1784, Test loss: 1.5847\n",
      "Use TF True, Train Epoch: 154, Loss: 0.2304, Test loss: 1.5847\n",
      "Use TF False, Train Epoch: 155, Loss: 1.0309, Test loss: 1.5832\n",
      "Use TF False, Train Epoch: 156, Loss: 0.6739, Test loss: 1.5824\n",
      "Use TF True, Train Epoch: 157, Loss: 0.2145, Test loss: 1.5807\n",
      "Use TF True, Train Epoch: 158, Loss: 0.2238, Test loss: 1.5805\n",
      "Use TF True, Train Epoch: 159, Loss: 0.1866, Test loss: 1.5804\n",
      "Use TF True, Train Epoch: 160, Loss: 0.2403, Test loss: 1.5803\n",
      "Use TF False, Train Epoch: 161, Loss: 0.9318, Test loss: 1.5777\n",
      "Use TF True, Train Epoch: 162, Loss: 0.2943, Test loss: 1.5759\n",
      "Use TF False, Train Epoch: 163, Loss: 0.8794, Test loss: 1.5722\n",
      "Use TF True, Train Epoch: 164, Loss: 0.2248, Test loss: 1.5706\n",
      "Use TF False, Train Epoch: 165, Loss: 1.0102, Test loss: 1.5695\n",
      "Use TF False, Train Epoch: 166, Loss: 0.7926, Test loss: 1.5623\n",
      "Use TF True, Train Epoch: 167, Loss: 0.1945, Test loss: 1.5652\n",
      "Use TF False, Train Epoch: 168, Loss: 1.0319, Test loss: 1.5673\n",
      "Use TF True, Train Epoch: 169, Loss: 0.2237, Test loss: 1.5656\n",
      "Use TF True, Train Epoch: 170, Loss: 0.1889, Test loss: 1.5654\n",
      "Use TF True, Train Epoch: 171, Loss: 0.2101, Test loss: 1.5653\n",
      "Use TF False, Train Epoch: 172, Loss: 0.8157, Test loss: 1.5657\n",
      "Use TF True, Train Epoch: 173, Loss: 0.3121, Test loss: 1.5658\n",
      "Use TF True, Train Epoch: 174, Loss: 0.1722, Test loss: 1.5658\n",
      "Use TF True, Train Epoch: 175, Loss: 0.2463, Test loss: 1.5658\n",
      "Use TF True, Train Epoch: 176, Loss: 0.1835, Test loss: 1.5657\n",
      "Use TF False, Train Epoch: 177, Loss: 0.8398, Test loss: 1.5633\n",
      "Use TF False, Train Epoch: 178, Loss: 0.8406, Test loss: 1.5581\n",
      "Use TF False, Train Epoch: 179, Loss: 0.8696, Test loss: 1.5557\n",
      "Use TF True, Train Epoch: 180, Loss: 0.2485, Test loss: 1.5533\n",
      "Use TF False, Train Epoch: 181, Loss: 0.9797, Test loss: 1.5465\n",
      "Use TF True, Train Epoch: 182, Loss: 0.1925, Test loss: 1.5424\n",
      "Use TF True, Train Epoch: 183, Loss: 0.1970, Test loss: 1.5419\n",
      "Use TF False, Train Epoch: 184, Loss: 0.8510, Test loss: 1.5429\n",
      "Use TF True, Train Epoch: 185, Loss: 0.2423, Test loss: 1.5433\n",
      "Use TF True, Train Epoch: 186, Loss: 0.1686, Test loss: 1.5432\n",
      "Use TF True, Train Epoch: 187, Loss: 0.2853, Test loss: 1.5431\n",
      "Use TF True, Train Epoch: 188, Loss: 0.2116, Test loss: 1.5431\n",
      "Use TF False, Train Epoch: 189, Loss: 0.9733, Test loss: 1.5360\n",
      "Use TF True, Train Epoch: 190, Loss: 0.1782, Test loss: 1.5320\n",
      "Use TF True, Train Epoch: 191, Loss: 0.1879, Test loss: 1.5315\n",
      "Use TF False, Train Epoch: 192, Loss: 0.6988, Test loss: 1.5362\n",
      "Use TF False, Train Epoch: 193, Loss: 1.0200, Test loss: 1.5339\n",
      "Use TF False, Train Epoch: 194, Loss: 0.9118, Test loss: 1.5263\n",
      "Use TF True, Train Epoch: 195, Loss: 0.2300, Test loss: 1.5242\n",
      "Use TF False, Train Epoch: 196, Loss: 0.6680, Test loss: 1.5273\n",
      "Use TF False, Train Epoch: 197, Loss: 0.8597, Test loss: 1.5252\n",
      "Use TF False, Train Epoch: 198, Loss: 1.0378, Test loss: 1.5152\n",
      "Use TF False, Train Epoch: 199, Loss: 1.1918, Test loss: 1.5133\n"
     ]
    }
   ],
   "source": [
    "for epoch in range(200):\n",
    "    #--- Training part ------\n",
    "    train_loss = 0\n",
    "    model.train()\n",
    "    lr = max(lr * (0.9 ** (epoch // decay_per_epoch)), 1e-5) \n",
    "    for param_group in opt.param_groups:\n",
    "        param_group['lr'] = lr\n",
    "    \n",
    "    use_tf = True if random.random() < tf else False\n",
    "    j, nRec_train = 0, 0\n",
    "    while j <= n_batch: # Use this to adjust how many batches as one epoch\n",
    "        # for batch_idx, sample in enumerate(self.train_loader):\n",
    "        sample = train_loader.__iter__().__next__()\n",
    "        v_seq, d_seq, a_seq, reward = sample['v_seq'], sample['d_seq'], sample['a_seq'], sample['reward']\n",
    "        batchSize_j, seq_len = v_seq.shape[0], v_seq.shape[1]\n",
    "        v_seq, d_seq, a_seq, reward = Variable(v_seq).float(), Variable(d_seq).float(), Variable(a_seq).float(), \\\n",
    "        Variable(reward).float()\n",
    "        nRec_j = (reward != 0).sum().float()\n",
    "        nRec_train += nRec_j\n",
    "\n",
    "        opt.zero_grad()\n",
    "        if use_tf:\n",
    "            a_hat = model(v_seq, d_seq)\n",
    "            loss = criterion(a_hat, a_seq.view(batchSize_j, seq_len, -1))\n",
    "            loss = (loss * reward.view(batchSize_j, seq_len,1).repeat(1,1,loss.shape[-1])).sum() / nRec_j*100\n",
    "        else:\n",
    "            v_seq_pred, d_seq_pred, a_seq_pred  = model.prediction(v_seq[:,0,:,:], d_seq[:,0,:,:], max_len=140)\n",
    "            loss = criterion(a_seq_pred, a_seq)\n",
    "            loss = (loss * reward.view(batchSize_j, seq_len,1,1).repeat(1,1,13,3)).sum() / nRec_j*100\n",
    "        loss.backward()\n",
    "        opt.step()\n",
    "        j += 1\n",
    "\n",
    "        train_loss += loss.data.item() * nRec_j\n",
    "        \n",
    "    #----- Test part ------\n",
    "    model.eval()\n",
    "    test_loss, nRec = 0, 0\n",
    "    for batch_idx, sample in enumerate(test_loader):\n",
    "        v_seq, d_seq, a_seq, reward = sample['v_seq'], sample['d_seq'], sample['a_seq'], sample['reward']\n",
    "        batchSize_j, seq_len = v_seq.shape[0], v_seq.shape[1]\n",
    "        nRec_j = (reward != 0).sum().float()\n",
    "        nRec += nRec_j\n",
    "        v_seq, d_seq, a_seq, reward = Variable(v_seq).float(), Variable(d_seq).float(), Variable(a_seq).float(), \\\n",
    "        Variable(reward).float()\n",
    "        \n",
    "        v_seq_pred, d_seq_pred, a_seq_pred  = model.prediction(v_seq[:,0,:,:], d_seq[:,0,:,:], max_len=140)\n",
    "        test_loss_step = criterion(a_seq_pred, a_seq)\n",
    "        test_loss_step = (test_loss_step * reward.view(batchSize_j, seq_len,1,1).repeat(1,1,13,3)).sum() / nRec_j\n",
    "        test_loss += test_loss_step.data.item()*nRec_j*100\n",
    "\n",
    "    test_loss /= nRec\n",
    "    print('Use TF {}, Train Epoch: {}, Loss: {:.4f}, Test loss: {:.4f}'.format(use_tf, epoch, train_loss/nRec_train, test_loss))\n"
   ]
  },
  {
   "cell_type": "code",
   "execution_count": 377,
   "metadata": {
    "collapsed": false
   },
   "outputs": [
    {
     "data": {
      "text/plain": [
       "torch.Size([140, 13, 3])"
      ]
     },
     "execution_count": 377,
     "metadata": {},
     "output_type": "execute_result"
    }
   ],
   "source": [
    "## Generation\n",
    "i = 9\n",
    "sample = test[i]\n",
    "v_seq, d_seq, a_seq,reward = sample['v_seq'], sample['d_seq'], sample['a_seq'],sample['reward']\n",
    "v_seq.shape"
   ]
  },
  {
   "cell_type": "code",
   "execution_count": 229,
   "metadata": {
    "collapsed": false
   },
   "outputs": [
    {
     "data": {
      "text/plain": [
       "56"
      ]
     },
     "execution_count": 229,
     "metadata": {},
     "output_type": "execute_result"
    }
   ],
   "source": [
    "list(reward.numpy()).index(1) # Take last frame as init"
   ]
  },
  {
   "cell_type": "code",
   "execution_count": 310,
   "metadata": {
    "collapsed": false
   },
   "outputs": [
    {
     "data": {
      "text/plain": [
       "tensor([0.0008, 0.0000, 0.0000, 0.0000])"
      ]
     },
     "execution_count": 310,
     "metadata": {},
     "output_type": "execute_result"
    }
   ],
   "source": [
    "a_seq[56:60,0,0]"
   ]
  },
  {
   "cell_type": "code",
   "execution_count": 378,
   "metadata": {
    "collapsed": false
   },
   "outputs": [
    {
     "name": "stderr",
     "output_type": "stream",
     "text": [
      "/Users/jshliu/anaconda/envs/py36_inex/lib/python3.6/site-packages/torch/nn/functional.py:995: UserWarning: nn.functional.tanh is deprecated. Use torch.tanh instead.\n",
      "  warnings.warn(\"nn.functional.tanh is deprecated. Use torch.tanh instead.\")\n"
     ]
    }
   ],
   "source": [
    "v1 = v_seq[56,:,:].view(1,13,3)\n",
    "d0 = d_seq[56,:,:].view(1,13,3)\n",
    "model.eval()\n",
    "v_seq_pred, d_seq_pred, a_seq_pred  = model.prediction(v1, d0, max_len=40)"
   ]
  },
  {
   "cell_type": "code",
   "execution_count": 379,
   "metadata": {
    "collapsed": false
   },
   "outputs": [
    {
     "data": {
      "text/plain": [
       "tensor([[ 12.8416, -10.3464,  -0.0251],\n",
       "        [-12.7323,   0.3697, -25.5957],\n",
       "        [  0.0282,   2.0758,  21.1121],\n",
       "        [  3.2888,  11.3938,  10.6880],\n",
       "        [ 13.5994,   8.1204,   4.1378],\n",
       "        [-25.2277,   6.0773, -15.0273],\n",
       "        [-18.0518, -23.8986,   1.1644],\n",
       "        [  2.9731, -15.2971,   1.8009],\n",
       "        [ 19.3170,  -4.8105, -19.0365],\n",
       "        [  7.1102,  10.8870,  18.9460],\n",
       "        [ -8.6607,  -0.0933,   9.5556],\n",
       "        [ 12.0041,  -7.2632,   5.8110],\n",
       "        [ -3.5798,  21.0986, -13.4875]], grad_fn=<SelectBackward>)"
      ]
     },
     "execution_count": 379,
     "metadata": {},
     "output_type": "execute_result"
    }
   ],
   "source": [
    "v_seq_pred[0,9,:,:]"
   ]
  },
  {
   "cell_type": "code",
   "execution_count": 370,
   "metadata": {
    "collapsed": false
   },
   "outputs": [
    {
     "data": {
      "text/plain": [
       "tensor([[ 0.8443, -0.2018, -0.0145],\n",
       "        [-0.5423,  0.2797, -1.4189],\n",
       "        [-0.0174, -0.1137,  0.9851],\n",
       "        [ 0.2937,  0.2489,  0.6388],\n",
       "        [ 0.4006, -0.0248, -0.1793],\n",
       "        [-1.2888,  0.6348, -0.7427],\n",
       "        [-1.1566, -1.2747,  0.2344],\n",
       "        [-0.2824, -0.8162,  0.1430],\n",
       "        [ 0.8902, -0.2026, -1.3012],\n",
       "        [ 0.3978,  0.3505,  0.8978],\n",
       "        [-0.2200, -0.0286,  0.1063],\n",
       "        [ 0.3105, -0.4980,  0.5963],\n",
       "        [-0.5882,  0.6265, -0.5636]], grad_fn=<SelectBackward>)"
      ]
     },
     "execution_count": 370,
     "metadata": {},
     "output_type": "execute_result"
    }
   ],
   "source": [
    "a_seq_pred[0,5,:,:]"
   ]
  },
  {
   "cell_type": "code",
   "execution_count": 282,
   "metadata": {
    "collapsed": false
   },
   "outputs": [
    {
     "data": {
      "text/plain": [
       "tensor([[-0.0036, -0.0019,  0.0023],\n",
       "        [-0.0008,  0.0005, -0.0021],\n",
       "        [-0.0056, -0.0049,  0.0095],\n",
       "        [ 0.0918, -0.0690,  0.0144],\n",
       "        [ 0.0715, -0.0432,  0.0173],\n",
       "        [-0.0005,  0.0016, -0.0040],\n",
       "        [-0.0196,  0.0236,  0.0343],\n",
       "        [ 0.0047,  0.0001,  0.0011],\n",
       "        [-0.0108,  0.0053,  0.0143],\n",
       "        [ 0.1003, -0.0307,  0.0367],\n",
       "        [ 0.0446, -0.0198,  0.0288],\n",
       "        [-0.0215, -0.0032, -0.0287],\n",
       "        [-0.0329,  0.0003,  0.0323]])"
      ]
     },
     "execution_count": 282,
     "metadata": {},
     "output_type": "execute_result"
    }
   ],
   "source": [
    "a_seq[52,:,:]"
   ]
  },
  {
   "cell_type": "code",
   "execution_count": 238,
   "metadata": {
    "collapsed": false
   },
   "outputs": [
    {
     "data": {
      "text/plain": [
       "tensor([[-0.1830,  0.0822,  0.0117],\n",
       "        [ 0.1534, -0.2207,  0.0378],\n",
       "        [ 0.5064, -0.3085,  0.2335],\n",
       "        [ 0.3267,  0.1277,  0.3656],\n",
       "        [ 0.2508,  0.1685,  0.3534],\n",
       "        [ 0.4131,  0.3654,  0.0501],\n",
       "        [ 0.6143, -0.0889,  0.3362],\n",
       "        [ 0.1883,  0.1849,  0.3309],\n",
       "        [ 0.1521,  0.2172,  0.3734],\n",
       "        [ 0.1772,  0.1904,  0.3853],\n",
       "        [ 0.1603,  0.1553,  0.3357],\n",
       "        [ 0.0604,  0.2553,  0.4066],\n",
       "        [ 0.1609,  0.1471,  0.2993]])"
      ]
     },
     "execution_count": 238,
     "metadata": {},
     "output_type": "execute_result"
    }
   ],
   "source": [
    "v_seq[56,:,:]"
   ]
  },
  {
   "cell_type": "code",
   "execution_count": 231,
   "metadata": {
    "collapsed": false
   },
   "outputs": [
    {
     "data": {
      "text/plain": [
       "torch.Size([1, 121, 13, 3])"
      ]
     },
     "execution_count": 231,
     "metadata": {},
     "output_type": "execute_result"
    }
   ],
   "source": [
    "v_seq_pred.shape"
   ]
  },
  {
   "cell_type": "code",
   "execution_count": 373,
   "metadata": {
    "collapsed": true
   },
   "outputs": [],
   "source": [
    "dataPlot = v_seq_pred[0].data.numpy()"
   ]
  },
  {
   "cell_type": "code",
   "execution_count": 380,
   "metadata": {
    "collapsed": false
   },
   "outputs": [],
   "source": [
    "getImage(None, key='test_9', state = dataPlot[0:4,:,:])"
   ]
  },
  {
   "cell_type": "code",
   "execution_count": 236,
   "metadata": {
    "collapsed": true
   },
   "outputs": [],
   "source": [
    "getImage(None, key = 'test_9_orig', state = v_seq[0:56,:,:].data.numpy())"
   ]
  }
 ],
 "metadata": {
  "anaconda-cloud": {},
  "kernelspec": {
   "display_name": "Python [conda env:py36_inex]",
   "language": "python",
   "name": "conda-env-py36_inex-py"
  },
  "language_info": {
   "codemirror_mode": {
    "name": "ipython",
    "version": 3
   },
   "file_extension": ".py",
   "mimetype": "text/x-python",
   "name": "python",
   "nbconvert_exporter": "python",
   "pygments_lexer": "ipython3",
   "version": "3.6.2"
  }
 },
 "nbformat": 4,
 "nbformat_minor": 2
}
