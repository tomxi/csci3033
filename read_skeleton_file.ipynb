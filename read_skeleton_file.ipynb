{
 "cells": [
  {
   "cell_type": "code",
   "execution_count": 15,
   "metadata": {},
   "outputs": [
    {
     "name": "stdout",
     "output_type": "stream",
     "text": [
      "The autoreload extension is already loaded. To reload it, use:\n",
      "  %reload_ext autoreload\n"
     ]
    }
   ],
   "source": [
    "import glob\n",
    "import numpy as np\n",
    "\n",
    "import util\n",
    "\n",
    "%load_ext autoreload\n",
    "%autoreload 2"
   ]
  },
  {
   "cell_type": "code",
   "execution_count": 2,
   "metadata": {},
   "outputs": [],
   "source": [
    "skeletons_dir = \"/beegfs/qx244/ds/NTU/clapping/nturgb+d_skeletons_clapping/\""
   ]
  },
  {
   "cell_type": "code",
   "execution_count": 3,
   "metadata": {},
   "outputs": [],
   "source": [
    "skeleton_files = glob.glob(skeletons_dir+'*.skeleton')"
   ]
  },
  {
   "cell_type": "code",
   "execution_count": 4,
   "metadata": {},
   "outputs": [
    {
     "data": {
      "text/plain": [
       "948"
      ]
     },
     "execution_count": 4,
     "metadata": {},
     "output_type": "execute_result"
    }
   ],
   "source": [
    "len(skeleton_files)"
   ]
  },
  {
   "cell_type": "code",
   "execution_count": 11,
   "metadata": {},
   "outputs": [],
   "source": [
    "bodyinfo = util.read_skeleton_file(skeleton_files[0])"
   ]
  },
  {
   "cell_type": "code",
   "execution_count": 14,
   "metadata": {},
   "outputs": [
    {
     "data": {
      "text/plain": [
       "{'x': -0.2590789,\n",
       " 'y': 0.354061,\n",
       " 'z': 3.024345,\n",
       " 'depthX': 231.2159,\n",
       " 'depthY': 166.9363,\n",
       " 'colorX': 881.7238,\n",
       " 'colorY': 415.3925,\n",
       " 'orientationW': 0.0,\n",
       " 'orientationX': 0.0,\n",
       " 'orientationY': 0.0,\n",
       " 'orientationZ': 0.0,\n",
       " 'trackingState': 2}"
      ]
     },
     "execution_count": 14,
     "metadata": {},
     "output_type": "execute_result"
    }
   ],
   "source": [
    "bodyinfo[3][0]['joints'][3]"
   ]
  },
  {
   "cell_type": "code",
   "execution_count": 45,
   "metadata": {},
   "outputs": [],
   "source": [
    "scaled_joints = util.normalize_joints(bodyinfo[3][0]['joints'])"
   ]
  },
  {
   "cell_type": "code",
   "execution_count": 46,
   "metadata": {},
   "outputs": [
    {
     "data": {
      "text/plain": [
       "[array([ 1.01418502, -0.03515617, -0.01462721]),\n",
       " array([ 0.5072867 , -0.0172493 , -0.01095043]),\n",
       " array([0., 0., 0.]),\n",
       " array([-0.25425628,  0.01243038, -0.00621752]),\n",
       " array([ 0.12112879, -0.08601413, -0.00399918]),\n",
       " array([ 0.55215914, -0.15309922, -0.02927752]),\n",
       " array([ 0.65985933, -0.1164082 ,  0.09669337]),\n",
       " array([ 0.71499355, -0.11158173,  0.11724602]),\n",
       " array([0.20576375, 0.06588319, 0.00045457]),\n",
       " array([0.63632548, 0.07717617, 0.01353395]),\n",
       " array([0.81926788, 0.06197619, 0.10625709]),\n",
       " array([0.88344753, 0.05550092, 0.13934097]),\n",
       " array([ 9.72627921e-01, -7.19042536e-02,  2.44316887e-17]),\n",
       " array([ 0.81324305, -0.12382671,  0.14818481]),\n",
       " array([ 1.37440426, -0.14235248,  0.15764839]),\n",
       " array([ 1.41397961, -0.14642005,  0.21960046]),\n",
       " array([ 1.00000000e+00, -3.05396109e-18,  1.22158443e-17]),\n",
       " array([0.93163793, 0.06179003, 0.12476645]),\n",
       " array([1.50057048, 0.01521043, 0.13643064]),\n",
       " array([1.53971237, 0.00946747, 0.19824453]),\n",
       " array([ 0.12716761, -0.00419416, -0.00390611]),\n",
       " array([ 0.77462954, -0.10867542,  0.15207526]),\n",
       " array([ 0.7125035 , -0.13166434,  0.12865938]),\n",
       " array([0.94611857, 0.05698752, 0.17271156]),\n",
       " array([0.8863011 , 0.03723072, 0.14220894])]"
      ]
     },
     "execution_count": 46,
     "metadata": {},
     "output_type": "execute_result"
    }
   ],
   "source": [
    "scaled_joints"
   ]
  }
 ],
 "metadata": {
  "kernelspec": {
   "display_name": "Python [default]",
   "language": "python",
   "name": "python3"
  },
  "language_info": {
   "codemirror_mode": {
    "name": "ipython",
    "version": 3
   },
   "file_extension": ".py",
   "mimetype": "text/x-python",
   "name": "python",
   "nbconvert_exporter": "python",
   "pygments_lexer": "ipython3",
   "version": "3.6.6"
  }
 },
 "nbformat": 4,
 "nbformat_minor": 2
}
